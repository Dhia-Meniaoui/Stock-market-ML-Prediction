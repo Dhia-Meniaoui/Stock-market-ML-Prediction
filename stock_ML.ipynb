{
  "nbformat": 4,
  "nbformat_minor": 0,
  "metadata": {
    "colab": {
      "provenance": []
    },
    "kernelspec": {
      "name": "python3",
      "display_name": "Python 3"
    },
    "language_info": {
      "name": "python"
    }
  },
  "cells": [
    {
      "cell_type": "code",
      "source": [
        "pip install chart-studio"
      ],
      "metadata": {
        "colab": {
          "base_uri": "https://localhost:8080/"
        },
        "id": "mH-BNis6Byue",
        "outputId": "184d7d19-3e5e-4d65-c764-f5c98b25ce0f"
      },
      "execution_count": 2,
      "outputs": [
        {
          "output_type": "stream",
          "name": "stdout",
          "text": [
            "Looking in indexes: https://pypi.org/simple, https://us-python.pkg.dev/colab-wheels/public/simple/\n",
            "Collecting chart-studio\n",
            "  Downloading chart_studio-1.1.0-py3-none-any.whl (64 kB)\n",
            "\u001b[K     |████████████████████████████████| 64 kB 2.0 MB/s \n",
            "\u001b[?25hRequirement already satisfied: six in /usr/local/lib/python3.8/dist-packages (from chart-studio) (1.15.0)\n",
            "Collecting retrying>=1.3.3\n",
            "  Downloading retrying-1.3.4-py3-none-any.whl (11 kB)\n",
            "Requirement already satisfied: plotly in /usr/local/lib/python3.8/dist-packages (from chart-studio) (5.5.0)\n",
            "Requirement already satisfied: requests in /usr/local/lib/python3.8/dist-packages (from chart-studio) (2.23.0)\n",
            "Requirement already satisfied: tenacity>=6.2.0 in /usr/local/lib/python3.8/dist-packages (from plotly->chart-studio) (8.1.0)\n",
            "Requirement already satisfied: chardet<4,>=3.0.2 in /usr/local/lib/python3.8/dist-packages (from requests->chart-studio) (3.0.4)\n",
            "Requirement already satisfied: idna<3,>=2.5 in /usr/local/lib/python3.8/dist-packages (from requests->chart-studio) (2.10)\n",
            "Requirement already satisfied: certifi>=2017.4.17 in /usr/local/lib/python3.8/dist-packages (from requests->chart-studio) (2022.12.7)\n",
            "Requirement already satisfied: urllib3!=1.25.0,!=1.25.1,<1.26,>=1.21.1 in /usr/local/lib/python3.8/dist-packages (from requests->chart-studio) (1.24.3)\n",
            "Installing collected packages: retrying, chart-studio\n",
            "Successfully installed chart-studio-1.1.0 retrying-1.3.4\n"
          ]
        }
      ]
    },
    {
      "cell_type": "code",
      "execution_count": 22,
      "metadata": {
        "colab": {
          "base_uri": "https://localhost:8080/"
        },
        "id": "xtnLgZe--NRY",
        "outputId": "9e528ec4-521c-4401-8192-c0cd01bec897"
      },
      "outputs": [
        {
          "output_type": "execute_result",
          "data": {
            "text/plain": [
              "<function plotly.offline.offline.init_notebook_mode(connected=False)>"
            ]
          },
          "metadata": {},
          "execution_count": 22
        }
      ],
      "source": [
        "import pandas as pd\n",
        "import numpy as np\n",
        "import matplotlib.pyplot as plt\n",
        "%matplotlib inline\n",
        "\n",
        "import chart_studio.plotly as py\n",
        "import plotly.graph_objs as go\n",
        "from plotly.offline import plot\n",
        "from google.colab import drive\n",
        "\n",
        "#for offline plotting\n",
        "from plotly.offline import download_plotlyjs, init_notebook_mode, plot, iplot\n",
        "init_notebook_mode"
      ]
    },
    {
      "cell_type": "code",
      "source": [
        "drive.mount('/content/drive')"
      ],
      "metadata": {
        "colab": {
          "base_uri": "https://localhost:8080/"
        },
        "id": "isRdJrjKCKuB",
        "outputId": "4c90a5f5-cf78-4c86-ea35-49426d4f0c5e"
      },
      "execution_count": 23,
      "outputs": [
        {
          "output_type": "stream",
          "name": "stdout",
          "text": [
            "Drive already mounted at /content/drive; to attempt to forcibly remount, call drive.mount(\"/content/drive\", force_remount=True).\n"
          ]
        }
      ]
    },
    {
      "cell_type": "code",
      "source": [
        "tesla = pd.read_csv(\"/content/drive/MyDrive/Colab Notebooks/tesla.csv\")\n",
        "tesla.head()"
      ],
      "metadata": {
        "colab": {
          "base_uri": "https://localhost:8080/",
          "height": 206
        },
        "id": "uR8ONFzlUJkG",
        "outputId": "e6839ae1-b0d3-46fb-a364-2ffe37b2a33a"
      },
      "execution_count": 24,
      "outputs": [
        {
          "output_type": "execute_result",
          "data": {
            "text/plain": [
              "         Date       Open   High        Low      Close  Adj Close    Volume\n",
              "0  29-06-2010  19.000000  25.00  17.540001  23.889999  23.889999  18766300\n",
              "1  30-06-2010  25.790001  30.42  23.299999  23.830000  23.830000  17187100\n",
              "2  01-07-2010  25.000000  25.92  20.270000  21.959999  21.959999   8218800\n",
              "3  02-07-2010  23.000000  23.10  18.709999  19.200001  19.200001   5139800\n",
              "4  06-07-2010  20.000000  20.00  15.830000  16.110001  16.110001   6866900"
            ],
            "text/html": [
              "\n",
              "  <div id=\"df-c4a4269b-ba02-497f-9cb9-d1e832c1e6f4\">\n",
              "    <div class=\"colab-df-container\">\n",
              "      <div>\n",
              "<style scoped>\n",
              "    .dataframe tbody tr th:only-of-type {\n",
              "        vertical-align: middle;\n",
              "    }\n",
              "\n",
              "    .dataframe tbody tr th {\n",
              "        vertical-align: top;\n",
              "    }\n",
              "\n",
              "    .dataframe thead th {\n",
              "        text-align: right;\n",
              "    }\n",
              "</style>\n",
              "<table border=\"1\" class=\"dataframe\">\n",
              "  <thead>\n",
              "    <tr style=\"text-align: right;\">\n",
              "      <th></th>\n",
              "      <th>Date</th>\n",
              "      <th>Open</th>\n",
              "      <th>High</th>\n",
              "      <th>Low</th>\n",
              "      <th>Close</th>\n",
              "      <th>Adj Close</th>\n",
              "      <th>Volume</th>\n",
              "    </tr>\n",
              "  </thead>\n",
              "  <tbody>\n",
              "    <tr>\n",
              "      <th>0</th>\n",
              "      <td>29-06-2010</td>\n",
              "      <td>19.000000</td>\n",
              "      <td>25.00</td>\n",
              "      <td>17.540001</td>\n",
              "      <td>23.889999</td>\n",
              "      <td>23.889999</td>\n",
              "      <td>18766300</td>\n",
              "    </tr>\n",
              "    <tr>\n",
              "      <th>1</th>\n",
              "      <td>30-06-2010</td>\n",
              "      <td>25.790001</td>\n",
              "      <td>30.42</td>\n",
              "      <td>23.299999</td>\n",
              "      <td>23.830000</td>\n",
              "      <td>23.830000</td>\n",
              "      <td>17187100</td>\n",
              "    </tr>\n",
              "    <tr>\n",
              "      <th>2</th>\n",
              "      <td>01-07-2010</td>\n",
              "      <td>25.000000</td>\n",
              "      <td>25.92</td>\n",
              "      <td>20.270000</td>\n",
              "      <td>21.959999</td>\n",
              "      <td>21.959999</td>\n",
              "      <td>8218800</td>\n",
              "    </tr>\n",
              "    <tr>\n",
              "      <th>3</th>\n",
              "      <td>02-07-2010</td>\n",
              "      <td>23.000000</td>\n",
              "      <td>23.10</td>\n",
              "      <td>18.709999</td>\n",
              "      <td>19.200001</td>\n",
              "      <td>19.200001</td>\n",
              "      <td>5139800</td>\n",
              "    </tr>\n",
              "    <tr>\n",
              "      <th>4</th>\n",
              "      <td>06-07-2010</td>\n",
              "      <td>20.000000</td>\n",
              "      <td>20.00</td>\n",
              "      <td>15.830000</td>\n",
              "      <td>16.110001</td>\n",
              "      <td>16.110001</td>\n",
              "      <td>6866900</td>\n",
              "    </tr>\n",
              "  </tbody>\n",
              "</table>\n",
              "</div>\n",
              "      <button class=\"colab-df-convert\" onclick=\"convertToInteractive('df-c4a4269b-ba02-497f-9cb9-d1e832c1e6f4')\"\n",
              "              title=\"Convert this dataframe to an interactive table.\"\n",
              "              style=\"display:none;\">\n",
              "        \n",
              "  <svg xmlns=\"http://www.w3.org/2000/svg\" height=\"24px\"viewBox=\"0 0 24 24\"\n",
              "       width=\"24px\">\n",
              "    <path d=\"M0 0h24v24H0V0z\" fill=\"none\"/>\n",
              "    <path d=\"M18.56 5.44l.94 2.06.94-2.06 2.06-.94-2.06-.94-.94-2.06-.94 2.06-2.06.94zm-11 1L8.5 8.5l.94-2.06 2.06-.94-2.06-.94L8.5 2.5l-.94 2.06-2.06.94zm10 10l.94 2.06.94-2.06 2.06-.94-2.06-.94-.94-2.06-.94 2.06-2.06.94z\"/><path d=\"M17.41 7.96l-1.37-1.37c-.4-.4-.92-.59-1.43-.59-.52 0-1.04.2-1.43.59L10.3 9.45l-7.72 7.72c-.78.78-.78 2.05 0 2.83L4 21.41c.39.39.9.59 1.41.59.51 0 1.02-.2 1.41-.59l7.78-7.78 2.81-2.81c.8-.78.8-2.07 0-2.86zM5.41 20L4 18.59l7.72-7.72 1.47 1.35L5.41 20z\"/>\n",
              "  </svg>\n",
              "      </button>\n",
              "      \n",
              "  <style>\n",
              "    .colab-df-container {\n",
              "      display:flex;\n",
              "      flex-wrap:wrap;\n",
              "      gap: 12px;\n",
              "    }\n",
              "\n",
              "    .colab-df-convert {\n",
              "      background-color: #E8F0FE;\n",
              "      border: none;\n",
              "      border-radius: 50%;\n",
              "      cursor: pointer;\n",
              "      display: none;\n",
              "      fill: #1967D2;\n",
              "      height: 32px;\n",
              "      padding: 0 0 0 0;\n",
              "      width: 32px;\n",
              "    }\n",
              "\n",
              "    .colab-df-convert:hover {\n",
              "      background-color: #E2EBFA;\n",
              "      box-shadow: 0px 1px 2px rgba(60, 64, 67, 0.3), 0px 1px 3px 1px rgba(60, 64, 67, 0.15);\n",
              "      fill: #174EA6;\n",
              "    }\n",
              "\n",
              "    [theme=dark] .colab-df-convert {\n",
              "      background-color: #3B4455;\n",
              "      fill: #D2E3FC;\n",
              "    }\n",
              "\n",
              "    [theme=dark] .colab-df-convert:hover {\n",
              "      background-color: #434B5C;\n",
              "      box-shadow: 0px 1px 3px 1px rgba(0, 0, 0, 0.15);\n",
              "      filter: drop-shadow(0px 1px 2px rgba(0, 0, 0, 0.3));\n",
              "      fill: #FFFFFF;\n",
              "    }\n",
              "  </style>\n",
              "\n",
              "      <script>\n",
              "        const buttonEl =\n",
              "          document.querySelector('#df-c4a4269b-ba02-497f-9cb9-d1e832c1e6f4 button.colab-df-convert');\n",
              "        buttonEl.style.display =\n",
              "          google.colab.kernel.accessAllowed ? 'block' : 'none';\n",
              "\n",
              "        async function convertToInteractive(key) {\n",
              "          const element = document.querySelector('#df-c4a4269b-ba02-497f-9cb9-d1e832c1e6f4');\n",
              "          const dataTable =\n",
              "            await google.colab.kernel.invokeFunction('convertToInteractive',\n",
              "                                                     [key], {});\n",
              "          if (!dataTable) return;\n",
              "\n",
              "          const docLinkHtml = 'Like what you see? Visit the ' +\n",
              "            '<a target=\"_blank\" href=https://colab.research.google.com/notebooks/data_table.ipynb>data table notebook</a>'\n",
              "            + ' to learn more about interactive tables.';\n",
              "          element.innerHTML = '';\n",
              "          dataTable['output_type'] = 'display_data';\n",
              "          await google.colab.output.renderOutput(dataTable, element);\n",
              "          const docLink = document.createElement('div');\n",
              "          docLink.innerHTML = docLinkHtml;\n",
              "          element.appendChild(docLink);\n",
              "        }\n",
              "      </script>\n",
              "    </div>\n",
              "  </div>\n",
              "  "
            ]
          },
          "metadata": {},
          "execution_count": 24
        }
      ]
    },
    {
      "cell_type": "code",
      "source": [
        "tesla['Date'] = pd.to_datetime(tesla['Date'])"
      ],
      "metadata": {
        "id": "HClGtNNmd_K4"
      },
      "execution_count": 25,
      "outputs": []
    },
    {
      "cell_type": "code",
      "source": [
        "print(f'Dataframe contains stock prices between {tesla.Date.min()} {tesla.Date.max()}') \n",
        "print(f'Total days = {(tesla.Date.max()  - tesla.Date.min()).days} days')\n",
        "tesla.describe()"
      ],
      "metadata": {
        "colab": {
          "base_uri": "https://localhost:8080/",
          "height": 335
        },
        "id": "i6OLNXmHQ65C",
        "outputId": "7a342a8b-4606-4e67-90cc-62d8b00b77a2"
      },
      "execution_count": 26,
      "outputs": [
        {
          "output_type": "stream",
          "name": "stdout",
          "text": [
            "Dataframe contains stock prices between 2010-01-07 00:00:00 2019-12-03 00:00:00\n",
            "Total days = 3617 days\n"
          ]
        },
        {
          "output_type": "execute_result",
          "data": {
            "text/plain": [
              "              Open         High          Low        Close    Adj Close  \\\n",
              "count  2193.000000  2193.000000  2193.000000  2193.000000  2193.000000   \n",
              "mean    175.652882   178.710262   172.412075   175.648555   175.648555   \n",
              "std     115.580903   117.370092   113.654794   115.580771   115.580771   \n",
              "min      16.139999    16.629999    14.980000    15.800000    15.800000   \n",
              "25%      33.110001    33.910000    32.459999    33.160000    33.160000   \n",
              "50%     204.990005   208.160004   201.669998   204.990005   204.990005   \n",
              "75%     262.000000   265.329987   256.209991   261.739990   261.739990   \n",
              "max     386.690002   389.609985   379.350006   385.000000   385.000000   \n",
              "\n",
              "             Volume  \n",
              "count  2.193000e+03  \n",
              "mean   5.077449e+06  \n",
              "std    4.545398e+06  \n",
              "min    1.185000e+05  \n",
              "25%    1.577800e+06  \n",
              "50%    4.171700e+06  \n",
              "75%    6.885600e+06  \n",
              "max    3.716390e+07  "
            ],
            "text/html": [
              "\n",
              "  <div id=\"df-1b5ba52e-a7e7-4945-a45f-d64e76846884\">\n",
              "    <div class=\"colab-df-container\">\n",
              "      <div>\n",
              "<style scoped>\n",
              "    .dataframe tbody tr th:only-of-type {\n",
              "        vertical-align: middle;\n",
              "    }\n",
              "\n",
              "    .dataframe tbody tr th {\n",
              "        vertical-align: top;\n",
              "    }\n",
              "\n",
              "    .dataframe thead th {\n",
              "        text-align: right;\n",
              "    }\n",
              "</style>\n",
              "<table border=\"1\" class=\"dataframe\">\n",
              "  <thead>\n",
              "    <tr style=\"text-align: right;\">\n",
              "      <th></th>\n",
              "      <th>Open</th>\n",
              "      <th>High</th>\n",
              "      <th>Low</th>\n",
              "      <th>Close</th>\n",
              "      <th>Adj Close</th>\n",
              "      <th>Volume</th>\n",
              "    </tr>\n",
              "  </thead>\n",
              "  <tbody>\n",
              "    <tr>\n",
              "      <th>count</th>\n",
              "      <td>2193.000000</td>\n",
              "      <td>2193.000000</td>\n",
              "      <td>2193.000000</td>\n",
              "      <td>2193.000000</td>\n",
              "      <td>2193.000000</td>\n",
              "      <td>2.193000e+03</td>\n",
              "    </tr>\n",
              "    <tr>\n",
              "      <th>mean</th>\n",
              "      <td>175.652882</td>\n",
              "      <td>178.710262</td>\n",
              "      <td>172.412075</td>\n",
              "      <td>175.648555</td>\n",
              "      <td>175.648555</td>\n",
              "      <td>5.077449e+06</td>\n",
              "    </tr>\n",
              "    <tr>\n",
              "      <th>std</th>\n",
              "      <td>115.580903</td>\n",
              "      <td>117.370092</td>\n",
              "      <td>113.654794</td>\n",
              "      <td>115.580771</td>\n",
              "      <td>115.580771</td>\n",
              "      <td>4.545398e+06</td>\n",
              "    </tr>\n",
              "    <tr>\n",
              "      <th>min</th>\n",
              "      <td>16.139999</td>\n",
              "      <td>16.629999</td>\n",
              "      <td>14.980000</td>\n",
              "      <td>15.800000</td>\n",
              "      <td>15.800000</td>\n",
              "      <td>1.185000e+05</td>\n",
              "    </tr>\n",
              "    <tr>\n",
              "      <th>25%</th>\n",
              "      <td>33.110001</td>\n",
              "      <td>33.910000</td>\n",
              "      <td>32.459999</td>\n",
              "      <td>33.160000</td>\n",
              "      <td>33.160000</td>\n",
              "      <td>1.577800e+06</td>\n",
              "    </tr>\n",
              "    <tr>\n",
              "      <th>50%</th>\n",
              "      <td>204.990005</td>\n",
              "      <td>208.160004</td>\n",
              "      <td>201.669998</td>\n",
              "      <td>204.990005</td>\n",
              "      <td>204.990005</td>\n",
              "      <td>4.171700e+06</td>\n",
              "    </tr>\n",
              "    <tr>\n",
              "      <th>75%</th>\n",
              "      <td>262.000000</td>\n",
              "      <td>265.329987</td>\n",
              "      <td>256.209991</td>\n",
              "      <td>261.739990</td>\n",
              "      <td>261.739990</td>\n",
              "      <td>6.885600e+06</td>\n",
              "    </tr>\n",
              "    <tr>\n",
              "      <th>max</th>\n",
              "      <td>386.690002</td>\n",
              "      <td>389.609985</td>\n",
              "      <td>379.350006</td>\n",
              "      <td>385.000000</td>\n",
              "      <td>385.000000</td>\n",
              "      <td>3.716390e+07</td>\n",
              "    </tr>\n",
              "  </tbody>\n",
              "</table>\n",
              "</div>\n",
              "      <button class=\"colab-df-convert\" onclick=\"convertToInteractive('df-1b5ba52e-a7e7-4945-a45f-d64e76846884')\"\n",
              "              title=\"Convert this dataframe to an interactive table.\"\n",
              "              style=\"display:none;\">\n",
              "        \n",
              "  <svg xmlns=\"http://www.w3.org/2000/svg\" height=\"24px\"viewBox=\"0 0 24 24\"\n",
              "       width=\"24px\">\n",
              "    <path d=\"M0 0h24v24H0V0z\" fill=\"none\"/>\n",
              "    <path d=\"M18.56 5.44l.94 2.06.94-2.06 2.06-.94-2.06-.94-.94-2.06-.94 2.06-2.06.94zm-11 1L8.5 8.5l.94-2.06 2.06-.94-2.06-.94L8.5 2.5l-.94 2.06-2.06.94zm10 10l.94 2.06.94-2.06 2.06-.94-2.06-.94-.94-2.06-.94 2.06-2.06.94z\"/><path d=\"M17.41 7.96l-1.37-1.37c-.4-.4-.92-.59-1.43-.59-.52 0-1.04.2-1.43.59L10.3 9.45l-7.72 7.72c-.78.78-.78 2.05 0 2.83L4 21.41c.39.39.9.59 1.41.59.51 0 1.02-.2 1.41-.59l7.78-7.78 2.81-2.81c.8-.78.8-2.07 0-2.86zM5.41 20L4 18.59l7.72-7.72 1.47 1.35L5.41 20z\"/>\n",
              "  </svg>\n",
              "      </button>\n",
              "      \n",
              "  <style>\n",
              "    .colab-df-container {\n",
              "      display:flex;\n",
              "      flex-wrap:wrap;\n",
              "      gap: 12px;\n",
              "    }\n",
              "\n",
              "    .colab-df-convert {\n",
              "      background-color: #E8F0FE;\n",
              "      border: none;\n",
              "      border-radius: 50%;\n",
              "      cursor: pointer;\n",
              "      display: none;\n",
              "      fill: #1967D2;\n",
              "      height: 32px;\n",
              "      padding: 0 0 0 0;\n",
              "      width: 32px;\n",
              "    }\n",
              "\n",
              "    .colab-df-convert:hover {\n",
              "      background-color: #E2EBFA;\n",
              "      box-shadow: 0px 1px 2px rgba(60, 64, 67, 0.3), 0px 1px 3px 1px rgba(60, 64, 67, 0.15);\n",
              "      fill: #174EA6;\n",
              "    }\n",
              "\n",
              "    [theme=dark] .colab-df-convert {\n",
              "      background-color: #3B4455;\n",
              "      fill: #D2E3FC;\n",
              "    }\n",
              "\n",
              "    [theme=dark] .colab-df-convert:hover {\n",
              "      background-color: #434B5C;\n",
              "      box-shadow: 0px 1px 3px 1px rgba(0, 0, 0, 0.15);\n",
              "      filter: drop-shadow(0px 1px 2px rgba(0, 0, 0, 0.3));\n",
              "      fill: #FFFFFF;\n",
              "    }\n",
              "  </style>\n",
              "\n",
              "      <script>\n",
              "        const buttonEl =\n",
              "          document.querySelector('#df-1b5ba52e-a7e7-4945-a45f-d64e76846884 button.colab-df-convert');\n",
              "        buttonEl.style.display =\n",
              "          google.colab.kernel.accessAllowed ? 'block' : 'none';\n",
              "\n",
              "        async function convertToInteractive(key) {\n",
              "          const element = document.querySelector('#df-1b5ba52e-a7e7-4945-a45f-d64e76846884');\n",
              "          const dataTable =\n",
              "            await google.colab.kernel.invokeFunction('convertToInteractive',\n",
              "                                                     [key], {});\n",
              "          if (!dataTable) return;\n",
              "\n",
              "          const docLinkHtml = 'Like what you see? Visit the ' +\n",
              "            '<a target=\"_blank\" href=https://colab.research.google.com/notebooks/data_table.ipynb>data table notebook</a>'\n",
              "            + ' to learn more about interactive tables.';\n",
              "          element.innerHTML = '';\n",
              "          dataTable['output_type'] = 'display_data';\n",
              "          await google.colab.output.renderOutput(dataTable, element);\n",
              "          const docLink = document.createElement('div');\n",
              "          docLink.innerHTML = docLinkHtml;\n",
              "          element.appendChild(docLink);\n",
              "        }\n",
              "      </script>\n",
              "    </div>\n",
              "  </div>\n",
              "  "
            ]
          },
          "metadata": {},
          "execution_count": 26
        }
      ]
    },
    {
      "cell_type": "code",
      "source": [
        "tesla[['Open','High','Low','Close','Adj Close']].plot(kind='box')"
      ],
      "metadata": {
        "colab": {
          "base_uri": "https://localhost:8080/",
          "height": 282
        },
        "id": "Us-FfHLARIsp",
        "outputId": "ba7dc286-c413-4a5a-8975-d34fbf096d38"
      },
      "execution_count": 27,
      "outputs": [
        {
          "output_type": "execute_result",
          "data": {
            "text/plain": [
              "<matplotlib.axes._subplots.AxesSubplot at 0x7fe787dc0040>"
            ]
          },
          "metadata": {},
          "execution_count": 27
        },
        {
          "output_type": "display_data",
          "data": {
            "text/plain": [
              "<Figure size 432x288 with 1 Axes>"
            ],
            "image/png": "[encoded data removed]"
          },
          "metadata": {
            "needs_background": "light"
          }
        }
      ]
    },
    {
      "cell_type": "code",
      "source": [
        "# Setting the layout for our plot\n",
        "layout = go.Layout(\n",
        "    title='Stock Prices of Tesla',\n",
        "    xaxis=dict(\n",
        "        title='Date',\n",
        "        titlefont=dict(\n",
        "            family='Courier New, monospace',\n",
        "            size=18,\n",
        "            color='#7f7f7f'\n",
        "        )\n",
        "    ),\n",
        "    yaxis=dict(\n",
        "        title='Price',\n",
        "        titlefont=dict(\n",
        "            family='Courier New, monospace',\n",
        "            size=18,\n",
        "            color='#7f7f7f'\n",
        "        )\n",
        "    )\n",
        ")\n",
        "\n",
        "tesla_data = [{'x':tesla['Date'], 'y':tesla['Close']}]\n",
        "plot = go.Figure(data=tesla_data, layout=layout)"
      ],
      "metadata": {
        "id": "MxKb0ifGRwBL"
      },
      "execution_count": 28,
      "outputs": []
    },
    {
      "cell_type": "code",
      "source": [
        "# Building the regression model\n",
        "from sklearn.model_selection import train_test_split\n",
        "\n",
        "#For preprocessing\n",
        "from sklearn.preprocessing import MinMaxScaler\n",
        "from sklearn.preprocessing import StandardScaler\n",
        "\n",
        "#For model evaluation\n",
        "from sklearn.metrics import mean_squared_error as mse\n",
        "from sklearn.metrics import r2_score"
      ],
      "metadata": {
        "id": "1P3NneKZYwBU"
      },
      "execution_count": 34,
      "outputs": []
    },
    {
      "cell_type": "code",
      "source": [
        "#Split the data into train and test sets\n",
        "X = np.array(tesla.index).reshape(-1,1)\n",
        "Y = tesla['Close']\n",
        "X_train, X_test, Y_train, Y_test = train_test_split(X, Y, test_size=0.3, random_state=101)"
      ],
      "metadata": {
        "id": "ZtjUDy5oYyJj"
      },
      "execution_count": 35,
      "outputs": []
    },
    {
      "cell_type": "code",
      "source": [
        "# Feature scaling\n",
        "scaler = StandardScaler().fit(X_train)"
      ],
      "metadata": {
        "id": "dQPkGmihYyPi"
      },
      "execution_count": 36,
      "outputs": []
    },
    {
      "cell_type": "code",
      "source": [
        "from sklearn.linear_model import LinearRegression"
      ],
      "metadata": {
        "id": "cYN6_OYSYyWD"
      },
      "execution_count": 37,
      "outputs": []
    },
    {
      "cell_type": "code",
      "source": [
        "#Creating a linear model\n",
        "lm = LinearRegression()\n",
        "lm.fit(X_train, Y_train)"
      ],
      "metadata": {
        "colab": {
          "base_uri": "https://localhost:8080/"
        },
        "id": "qYz0qeDKY30V",
        "outputId": "55dbf0a6-ae2b-4e66-9bbe-e088946c1113"
      },
      "execution_count": 38,
      "outputs": [
        {
          "output_type": "execute_result",
          "data": {
            "text/plain": [
              "LinearRegression()"
            ]
          },
          "metadata": {},
          "execution_count": 38
        }
      ]
    },
    {
      "cell_type": "code",
      "source": [
        "#Plot actual and predicted values for train dataset\n",
        "trace0 = go.Scatter(\n",
        "    x = X_train.T[0],\n",
        "    y = Y_train,\n",
        "    mode = 'markers',\n",
        "    name = 'Actual'\n",
        ")\n",
        "trace1 = go.Scatter(\n",
        "    x = X_train.T[0],\n",
        "    y = lm.predict(X_train).T,\n",
        "    mode = 'lines',\n",
        "    name = 'Predicted'\n",
        ")\n",
        "tesla_data = [trace0,trace1]\n",
        "layout.xaxis.title.text = 'Day'\n",
        "plot2 = go.Figure(data=tesla_data, layout=layout)"
      ],
      "metadata": {
        "id": "UK_DiDvrY36T"
      },
      "execution_count": 39,
      "outputs": []
    },
    {
      "cell_type": "code",
      "source": [
        "plot2.show(renderer=\"colab\")"
      ],
      "metadata": {
        "colab": {
          "base_uri": "https://localhost:8080/",
          "height": 542
        },
        "id": "iV9-xRKuY39F",
        "outputId": "e24a3d34-744d-4efe-c009-d6638f4d1dc4"
      },
      "execution_count": 40,
      "outputs": [
        {
          "output_type": "display_data",
          "data": {
            "text/html": [
              "<html>\n",
              "<head><meta charset=\"utf-8\" /></head>\n",
              "<body>\n",
              "    <div>            <script src=\"https://cdnjs.cloudflare.com/ajax/libs/mathjax/2.7.5/MathJax.js?config=TeX-AMS-MML_SVG\"></script><script type=\"text/javascript\">if (window.MathJax) {MathJax.Hub.Config({SVG: {font: \"STIX-Web\"}});}</script>                <script type=\"text/javascript\">window.PlotlyConfig = {MathJaxConfig: 'local'};</script>\n",
              "        <script src=\"https://cdn.plot.ly/plotly-2.8.3.min.js\"></script>                <div id=\"6c6c6120-87b2-476c-8b4d-cdf233b2daae\" class=\"plotly-graph-div\" style=\"height:525px; width:100%;\"></div>            <script type=\"text/javascript\">                                    window.PLOTLYENV=window.PLOTLYENV || {};                                    if (document.getElementById(\"6c6c6120-87b2-476c-8b4d-cdf233b2daae\")) {                    Plotly.newPlot(                        \"6c6c6120-87b2-476c-8b4d-cdf233b2daae\",                        [{\"mode\":\"markers\",\"name\":\"Actual\",\"x\":[365,1111,1581,1990,1753,1357,135,1851,123,677,1946,525,414,2114,2173,1115,719,986,1403,2001,68,182,70,737,1180,1614,1526,292,280,1145,1613,800,1600,171,790,1185,1726,1027,920,1457,260,1261,1597,119,552,576,1227,1579,217,2023,383,704,5,933,149,1841,587,1809,2103,2010,84,1390,1589,1644,941,2080,544,1546,1635,1987,2090,698,970,1066,124,269,1377,185,1953,1323,87,1951,1198,447,603,1169,1171,949,449,1748,1201,1166,470,745,1979,955,1538,1515,196,1445,1758,7,959,1380,1430,844,1770,1376,1399,969,1948,1985,1823,664,2074,597,340,765,1138,115,1379,1827,440,1048,1557,2116,1168,1450,1772,2030,1186,16,148,1230,1308,2181,20,287,231,817,34,336,1018,1263,1441,1814,492,45,466,488,680,1965,1960,1147,1233,1249,862,1519,747,1245,1950,1444,1012,246,186,946,203,1653,1764,1271,1057,608,1181,30,670,812,1779,439,1749,1646,1470,460,1046,668,248,1544,298,574,1481,1694,1619,1939,1656,1742,1727,1221,1059,2152,1647,570,1050,1975,291,803,779,1079,1968,657,307,2130,1431,1995,653,1909,347,919,706,114,125,1855,1679,1484,703,1140,1060,1183,2191,2042,1864,1947,744,1602,1570,2050,2147,361,151,306,1717,369,1236,2168,892,175,1128,555,1820,72,1834,1723,1493,141,693,421,1815,1535,197,691,1131,1777,1700,829,915,899,1798,1030,876,61,1856,2046,455,2056,130,1182,413,1751,2154,375,105,1427,458,2062,25,1761,1769,1387,836,536,1988,583,54,963,33,2019,1318,1556,548,1912,1904,1042,1311,12,1302,2096,516,1114,1152,209,1711,351,1006,1914,31,1922,754,1804,370,1730,996,2039,1628,475,1745,1920,1196,859,1412,1735,417,990,1843,2134,832,1504,799,1218,692,1824,407,897,1026,139,877,1024,1773,2146,69,568,1322,1242,533,327,1398,80,127,433,1852,1005,678,529,784,1280,864,628,422,1286,1652,432,914,1250,277,400,1130,462,816,1137,23,665,1845,1213,1976,937,1392,1348,559,1978,866,1496,661,1705,1419,2057,128,972,1254,384,266,1397,331,954,560,1384,1466,551,103,1146,1061,1925,1618,1329,741,1206,121,1036,1307,1358,878,2136,1587,1051,2129,723,766,1415,962,823,425,1894,778,505,716,28,652,1292,1359,1304,1501,968,630,2084,1887,500,1934,24,713,1402,861,328,1355,1009,1281,1469,1473,1370,783,268,1610,1534,339,118,285,618,1866,2132,1343,1129,786,714,688,761,448,2005,313,709,117,845,165,1500,309,249,434,1867,1072,267,390,1187,399,1315,518,1882,1550,1974,2110,624,446,405,2145,528,1645,2015,1443,1478,1363,991,942,2081,683,2159,1712,85,1331,1510,978,975,1800,290,1860,333,108,596,1862,956,1101,483,2011,1984,2151,586,237,1622,985,1296,1521,1853,567,1369,279,1870,271,1211,1848,1664,981,2026,1927,848,143,573,873,647,2148,1905,782,471,88,687,577,1551,1506,318,1558,274,1911,2061,308,1092,341,1871,2150,795,1135,682,1225,1284,1053,1706,874,1305,666,21,894,65,42,1725,15,410,1710,1040,1175,1463,415,2037,957,2000,1554,174,1719,808,431,1886,2060,605,1277,1938,241,1434,2101,1747,107,1836,408,1453,2013,1590,1754,650,1086,1873,1432,1255,1991,1347,2115,625,1120,1362,610,1624,726,2066,1739,1405,1778,513,2124,1972,1880,1631,2169,918,1117,64,1924,858,106,1033,1204,2172,1456,932,1417,1802,1876,1195,204,902,468,1681,1404,1321,1903,464,997,1857,8,1774,752,729,232,170,1406,635,1593,498,1741,222,1744,43,1252,1844,281,1669,463,673,901,335,2149,699,2183,1289,648,1447,435,1210,1155,1461,1609,205,1134,1810,1019,1806,2078,1955,1737,1313,1677,1575,1840,924,491,686,1740,1592,740,1908,715,636,1545,1568,133,1562,1229,403,598,1154,1962,1689,445,1569,824,1928,1103,999,1365,846,1598,791,646,1838,1179,517,1605,1884,1332,1409,789,1872,1517,154,2102,1574,1172,1981,1410,593,2185,961,522,173,372,1193,1930,689,2007,772,1237,2018,1041,202,86,113,443,220,798,27,1381,1989,2165,1907,523,1536,1897,1035,1394,613,802,1571,167,1633,615,888,893,695,595,948,388,227,958,461,310,660,1045,1449,1508,250,1483,1578,1312,2178,294,1564,1682,885,368,1982,1108,1859,514,755,1153,1113,880,363,1220,275,83,1282,234,1941,2099,473,1028,658,13,1606,1038,1513,562,476,1584,39,1901,1077,1458,1345,391,1386,1997,1505,1356,38,322,1238,1290,1339,1088,571,1684,883,188,29,262,1817,244,229,1685,1303,1964,1090,530,916,1350,4,314,2027,1958,1093,702,572,1861,206,818,1673,642,1785,1170,1039,406,1460,2070,1197,102,934,1640,2138,2017,1224,487,58,272,1104,1275,1023,1272,1462,1257,2044,806,935,1649,2012,725,348,2067,442,1468,1259,2161,338,1830,582,1826,826,728,1448,1285,53,807,2105,392,1787,1110,441,989,620,1994,1486,724,809,474,176,565,1141,1952,316,1352,1148,2164,1062,1756,998,1549,424,727,777,1963,1846,1729,120,1926,1490,685,293,1837,1065,2108,164,1957,350,131,1078,1482,820,270,1799,667,150,66,1721,261,1752,1738,1287,939,160,259,738,332,945,438,428,2016,386,1498,764,2163,1509,364,1695,550,616,2048,542,278,1202,401,503,943,547,397,830,57,1529,1765,159,2170,2034,886,1819,344,1411,95,2089,1796,872,1528,1696,317,736,538,255,2179,1641,771,1888,2177,796,1239,1648,1471,717,385,965,1043,1627,1375,655,1366,2024,890,1902,2192,2094,656,156,827,1697,1789,763,345,1601,1879,282,301,712,1891,1310,1177,2109,912,450,2188,1189,833,312,1231,472,1396,1438,1801,166,1913,324,283,526,302,181,2095,78,1112,382,2098,1771,1792,837,1835,427,1119,2127,349,1651,633,152,681,879,2025,600,1883,701,1194,527,1407,1661,1715,91,1923,2143,905,825,911,276,604,1961,1516,581,1099,1731,200,1475,553,1094,951,953,578,1067,1316,2175,993,1755,199,1895,549,426,296,1167,675,2156,751,1701,1157,329,2041,842,305,51,644,1068,377,2040,2122,315,785,852,627,243,2093,404,1690,411,211,1070,645,504,1698,1000,1217,944,1246,1977,1244,1295,1734,1037,1455,1768,1847,1767,865,2106,1235,672,1004,17,1832,153,1766,2082,1585,14,854,73,881,2182,519,2071,1467,1956,1732,1007,1877,2160,93,76,1368,2065,2180,889,2091,223,1522,215,521,1863,396,387,480,1174,1367,511,1808,1998,676,297,1176,839,1511,1326,1986,494,2051,1623,2054,746,169,1439,2123,1632,1069,409,838,1,112,398,1626,1301,638,496,590,983,380,1703,1762,2002,437,1121,1670,2087,2137,1071,1334,1414,541,1429,697,1126,1966,238,1049,967,977,539,1008,1583,1821,430,1795,158,1746,1044,1929,289,1611,1354,718,2028,1400,1659,453,502,2058,59,1993,1013,1477,2100,1143,1017,606,1919,588,251,1954,1788,1603,1671,594,2125,444,402,1425,580,1783,245,145,1781,982,871,1374,984,1718,1064,611,478,221,1865,311,1539,1109,2077,671,177,1132,1266,684,1893,1139,810,35,1465,1573,546,1025,634,1514,358,2055,1595,101,662,1775,1842,891,1393,207,1868,11,456,2186,1247,1561,163,884,2142,1383,2083,1446,1232,359,1512,575,1900,192,733,208,1992,1531,71,950,110,97,921,1401,22,554,1885,591,1858,1074,592,2009,705,1100,663,1010,1015,1898,190,10,1620,1479,966,144,1076,558,1937,1436,1085,1604,79,811,1149,1702,1944,609,813,219,40,1309,828,1716,960,1969,1967,253,855,561,654,2111,1382,82,2053,788,711,1118,1278,465,2069,378,797,2038,2021,1582,1667,46,1485,1874,451,1699,1268,357,2119,1127,947,632,1274,1327,851,3,540,1502,394,907,239,1594,2155,1709,1021,1161,47,1523,1818,1878,1300,1639,1980,499,419,1688,1889,1487,1011,760,1164,362,512,1351,1426,1464,436,906,831,979,1288,1527,2153,343,1643,1662,1273,1580,1442,2107,1949,371,1530,623,1875,49,2088,477,908,1728,732,936,1668,1576,973,75,2045,599,1599,1361,1547,863],\"y\":[34.189999,248.089996,196.610001,277.850006,375.339996,214.0,28.450001,299.26001,32.630001,38.470001,309.100006,29.51,34.970001,353.470001,307.880005,231.429993,55.790001,207.770004,193.559998,332.100006,21.120001,22.959999,20.43,94.839996,190.880005,193.139999,220.5,23.870001,23.639999,191.869995,191.169998,168.940002,187.419998,24.360001,144.899994,195.699997,307.190002,225.009995,248.0,254.529999,28.35,280.019989,197.729996,30.809999,27.940001,28.370001,244.100006,208.460007,27.91,316.709991,27.709999,45.450001,15.8,230.970001,24.1,351.809998,27.42,349.589996,346.410004,333.630005,21.0,219.039993,203.559998,231.279999,212.960007,301.019989,30.73,223.509995,213.339996,284.48999,276.589996,40.5,201.350006,250.410004,30.09,29.290001,234.509995,22.209999,267.529999,248.399994,21.41,266.130005,191.0,34.48,32.919998,217.110001,204.110001,207.520004,32.459999,370.0,207.669998,204.350006,30.059999,100.300003,306.850006,193.910004,226.160004,214.440002,27.24,230.259995,382.609985,17.4,218.639999,232.559998,201.039993,175.199997,327.220001,221.089996,198.699997,207.279999,304.179993,284.540009,344.98999,39.279999,299.679993,30.32,28.879999,127.260002,211.279999,31.52,230.460007,341.100006,37.939999,263.25,197.779999,338.190002,211.710007,246.990005,323.410004,303.200012,194.729996,21.0,24.01,247.139999,248.910004,319.880005,20.719999,25.83,29.549999,188.639999,19.15,27.98,217.160004,267.880005,238.320007,362.75,29.120001,20.450001,32.459999,27.91,38.98,300.079987,294.079987,191.929993,247.729996,253.119995,127.279999,224.649994,103.389999,250.699997,257.779999,227.75,219.070007,26.01,22.33,230.289993,25.030001,248.919998,361.609985,274.660004,281.100006,32.150002,190.320007,17.9,35.099998,177.919998,342.519989,37.400002,357.320007,229.729996,241.800003,32.91,262.549988,34.380001,27.209999,223.610001,24.0,28.889999,204.660004,255.009995,181.880005,341.839996,252.509995,341.01001,321.26001,230.429993,279.200012,346.049988,229.589996,29.16,269.700012,284.450012,22.959999,166.970001,138.0,236.910004,283.459991,39.48,24.82,376.790009,205.289993,291.820007,38.299999,349.529999,31.33,217.649994,47.830002,32.049999,25.549999,304.390015,250.020004,220.279999,45.59,210.619995,253.860001,191.070007,289.959991,370.339996,317.809998,301.540009,98.18,193.210007,206.429993,308.440002,338.529999,32.599998,23.940001,24.34,313.790009,29.450001,251.449997,305.799988,161.270004,24.719999,219.289993,27.370001,373.910004,20.24,355.589996,311.019989,218.990005,24.030001,44.34,33.41,366.230011,225.789993,26.49,37.889999,222.259995,329.920013,277.920013,179.720001,203.699997,174.600006,347.459991,233.270004,140.720001,20.1,302.98999,347.640015,32.66,311.859985,26.620001,193.740005,34.18,375.950012,302.26001,27.57,35.32,186.350006,31.940001,280.950012,21.26,362.369995,316.049988,240.009995,164.5,31.17,275.01001,28.040001,21.98,198.509995,18.780001,308.899994,261.059998,200.770004,28.41,349.25,351.559998,256.76001,253.190002,20.639999,249.059998,288.5,35.959999,231.639999,205.979996,27.08,301.440002,34.939999,239.059998,333.130005,17.6,334.070007,109.25,345.660004,28.530001,324.809998,206.419998,348.170013,198.690002,29.18,347.320007,323.660004,188.770004,120.839996,147.990005,310.829987,34.529999,206.899994,337.019989,332.970001,182.800003,219.699997,169.0,226.029999,43.93,345.25,31.93,178.559998,224.820007,25.75,143.240005,223.539993,327.779999,335.350006,20.459999,28.49,246.649994,249.139999,29.09,27.940001,204.720001,20.75,27.73,35.32,306.089996,235.600006,39.099998,26.1,153.0,266.790009,144.699997,33.59,34.41,242.509995,244.729996,35.0,198.229996,260.410004,27.200001,29.57,220.970001,33.34,185.240005,210.089996,20.92,38.540001,325.839996,218.429993,294.089996,234.910004,211.0,231.630005,30.389999,301.970001,140.479996,235.520004,38.450001,298.700012,166.770004,305.01001,26.5,182.259995,267.670013,27.120001,27.889999,204.990005,27.57,198.089996,32.540001,228.949997,253.740005,28.139999,34.57,193.070007,260.73999,333.299988,189.399994,226.720001,100.050003,207.830002,31.700001,259.320007,248.169998,221.070007,143.550003,319.769989,193.960007,284.119995,366.600006,83.239998,109.050003,150.470001,199.850006,180.979996,33.110001,316.579987,135.550003,31.41,54.549999,19.6,37.509998,254.990005,221.800003,247.690002,217.699997,216.610001,33.220001,250.559998,317.290009,32.189999,328.200012,21.950001,53.990002,196.380005,126.940002,28.049999,207.190002,229.429993,266.149994,240.759995,211.529999,231.130005,153.479996,28.700001,188.660004,227.199997,29.370001,29.6,26.23,35.279999,315.549988,348.420013,212.960007,222.600006,145.429993,53.279999,37.529999,123.449997,33.150002,358.170013,26.379999,50.43,28.530001,176.809998,21.83,214.960007,25.77,27.709999,34.98,316.809998,240.240005,28.690001,22.790001,200.710007,29.33,260.619995,32.150002,338.869995,222.619995,301.149994,338.730011,34.610001,35.0,31.799999,334.959991,26.25,229.869995,342.950012,222.580002,207.279999,229.639999,208.169998,207.320007,294.799988,35.150002,296.380005,300.25,21.190001,215.580002,201.789993,196.089996,190.619995,341.350006,21.950001,311.299988,28.030001,34.349998,31.309999,315.049988,199.110001,251.080002,31.690001,333.01001,286.480011,344.429993,28.389999,28.370001,185.850006,210.240005,230.770004,221.529999,302.779999,27.540001,230.380005,24.24,308.850006,28.0,219.440002,320.079987,257.480011,204.880005,322.690002,352.049988,137.949997,23.040001,29.4,147.940002,36.990002,344.970001,352.790009,134.229996,32.959999,21.25,36.619999,28.4,220.960007,196.660004,24.389999,202.830002,28.17,354.309998,280.73999,25.799999,238.100006,28.709999,306.529999,334.399994,164.220001,222.410004,35.290001,244.740005,270.130005,286.040009,302.540009,152.460007,245.570007,35.16,20.35,170.970001,20.41,19.700001,308.350006,20.219999,31.49,304.0,262.01001,197.330002,248.289993,34.5,300.839996,198.119995,317.660004,211.339996,24.66,308.630005,165.539993,35.290001,325.200012,288.950012,32.470001,253.009995,345.51001,28.43,205.179993,337.320007,359.649994,35.330002,355.679993,32.580002,257.200012,344.5,199.100006,371.399994,37.950001,235.339996,303.700012,202.600006,265.170013,278.850006,208.350006,347.48999,34.43,216.889999,218.25,33.689999,192.289993,91.5,290.540009,316.829987,189.699997,328.399994,31.51,359.700012,293.899994,337.890015,202.729996,312.839996,209.600006,228.279999,21.98,334.769989,121.379997,34.330002,248.929993,209.779999,303.769989,247.820007,237.789993,155.169998,352.929993,315.130005,190.570007,25.16,175.229996,32.470001,251.570007,188.070007,248.429993,350.019989,33.779999,224.610001,302.98999,17.049999,319.570007,102.400002,87.239998,30.139999,24.02,191.199997,34.34,202.339996,32.09,335.100006,26.6,339.850006,19.870001,262.51001,337.339996,25.059999,280.980011,33.130001,35.580002,178.380005,28.25,347.26001,41.860001,285.359985,238.169998,36.98,226.889999,34.959999,209.410004,203.600006,247.369995,183.929993,25.75,222.229996,344.529999,215.399994,353.179993,264.769989,305.720001,303.859985,262.25,246.229996,200.699997,359.649994,250.559998,30.08,36.009998,325.140015,202.759995,102.040001,342.850006,54.110001,33.68,223.240005,204.639999,27.879999,198.300003,248.75,30.25,31.07,205.199997,291.209991,255.729996,38.009998,205.220001,183.070007,357.420013,251.699997,227.119995,230.259995,151.160004,190.789993,149.580002,36.0,350.600006,193.880005,33.349998,185.350006,328.980011,219.25,173.479996,142.0,305.200012,216.779999,23.07,344.279999,206.270004,203.759995,301.059998,175.330002,31.5,276.23999,207.860001,29.84,24.940001,28.0,190.410004,343.059998,37.860001,352.549988,121.699997,250.800003,309.160004,259.940002,25.58,21.84,32.369999,37.240002,27.67,166.059998,19.59,229.949997,279.070007,321.350006,337.640015,28.950001,230.610001,334.799988,248.130005,209.970001,33.900002,169.929993,207.449997,23.610001,207.699997,33.900002,151.279999,164.130005,42.009998,31.540001,212.229996,28.23,26.82,204.380005,33.490002,26.01,37.889999,256.779999,237.589996,193.149994,27.57,215.210007,211.410004,253.570007,298.769989,23.73,196.410004,251.210007,149.559998,30.41,291.970001,248.710007,308.700012,32.700001,107.360001,199.369995,244.520004,155.5,34.419998,232.949997,28.77,21.360001,259.98999,28.76,325.600006,334.850006,30.059999,228.919998,39.240002,21.91,188.559998,260.309998,216.5,31.049999,28.57,201.509995,19.200001,347.160004,259.279999,251.860001,206.929993,26.6,238.089996,291.130005,219.610001,214.309998,20.129999,26.959999,249.449997,242.509995,211.720001,235.289993,29.799999,246.869995,150.429993,23.25,19.030001,28.639999,379.809998,26.5,28.98,244.899994,238.630005,293.350006,221.669998,27.27,193.639999,232.360001,16.110001,25.52,323.850006,304.700012,238.660004,43.299999,29.299999,312.5,26.74,190.899994,277.390015,34.099998,319.570007,207.339996,261.380005,31.6,253.880005,284.959991,187.589996,33.400002,233.979996,216.990005,326.089996,310.859985,239.490005,27.879999,20.77,27.639999,258.679993,267.200012,222.490005,282.26001,249.970001,267.089996,355.48999,163.520004,240.039993,235.580002,342.0,92.25,33.639999,289.459991,37.330002,247.710007,268.26001,308.769989,29.870001,355.01001,28.82,339.600006,168.779999,87.589996,229.770004,246.130005,21.120001,164.929993,341.059998,26.809999,347.089996,246.720001,37.849998,203.990005,33.610001,284.730011,217.910004,84.839996,166.580002,29.43,24.01,30.66,206.660004,252.479996,24.59,216.5,196.570007,312.890015,261.380005,372.23999,231.669998,224.839996,33.77,89.940002,134.279999,287.690002,326.170013,323.100006,31.360001,346.170013,223.229996,35.950001,23.110001,355.570007,250.029999,350.51001,21.870001,289.660004,33.93,26.67,257.01001,211.169998,193.0,28.49,337.859985,36.110001,23.91,20.6,322.829987,28.17,380.660004,310.220001,241.139999,220.169998,22.84,28.809999,95.370003,27.34,216.970001,34.080002,34.740002,335.070007,27.25,218.789993,129.899994,312.209991,198.550003,34.869999,254.779999,28.52,34.169998,335.450012,29.110001,24.75,210.089996,29.07,31.610001,212.369995,28.690001,27.969999,183.940002,21.059999,229.509995,352.619995,23.08,311.809998,297.179993,147.0,375.100006,31.27,162.600006,28.040001,259.589996,362.910004,147.649994,230.009995,263.160004,24.120001,92.589996,29.4,29.02,297.859985,226.990005,122.739998,311.640015,294.709991,167.009995,248.350006,237.75,232.320007,59.5,26.91,207.889999,255.710007,198.149994,218.580002,38.130001,237.190002,318.869995,145.720001,344.570007,275.429993,260.950012,39.169998,23.209999,172.929993,270.220001,355.170013,125.610001,31.84,190.559998,339.029999,23.82,23.84,54.939999,320.529999,250.240005,202.440002,331.279999,195.320007,33.09,290.920013,198.080002,183.399994,25.629999,244.350006,32.25,206.179993,221.929993,352.769989,22.530001,343.75,27.879999,25.299999,27.35,23.610001,22.809999,294.140015,20.049999,248.440002,28.08,330.899994,329.519989,355.399994,173.149994,354.600006,33.07,214.360001,365.149994,33.220001,243.759995,34.77,23.629999,36.849998,151.410004,310.100006,31.379999,331.100006,43.75,185.0,27.42,196.940002,251.550003,305.600006,24.440001,335.48999,300.359985,177.110001,174.729996,196.619995,27.34,33.0,300.339996,215.940002,28.059999,240.199997,315.880005,24.93,208.919998,28.549999,241.699997,216.929993,203.779999,28.32,252.139999,264.200012,302.559998,202.300003,369.799988,24.65,336.410004,28.41,33.119999,24.629999,204.460007,37.689999,287.589996,101.489998,278.299988,218.360001,27.42,379.570007,159.940002,24.08,20.17,34.52,246.949997,27.9,341.98999,350.480011,26.190001,147.380005,137.600006,34.279999,27.32,260.0,31.15,262.049988,33.169998,27.6,245.259995,35.189999,31.959999,277.450012,227.789993,226.050003,208.449997,251.410004,302.769989,256.0,242.179993,313.059998,259.959991,249.919998,313.220001,320.869995,308.829987,138.949997,348.160004,247.429993,34.650002,236.889999,21.290001,356.880005,23.459999,327.089996,281.829987,200.240005,20.299999,121.580002,20.24,151.119995,294.790009,32.27,299.019989,251.470001,299.299988,317.01001,240.059998,328.910004,297.459991,24.629999,20.540001,232.710007,279.440002,314.73999,147.529999,271.779999,25.959999,220.399994,26.440001,30.66,308.73999,27.42,27.620001,31.02,203.339996,231.990005,31.49,355.399994,319.5,38.23,24.74,199.559998,162.860001,210.190002,246.149994,276.820007,29.77,321.899994,193.149994,322.820007,102.199997,23.940001,226.380005,358.48999,208.789993,246.600006,31.1,169.660004,23.83,31.559999,28.940001,192.429993,248.479996,33.529999,29.91,28.129999,211.559998,28.73,303.700012,371.23999,342.769989,34.400002,209.839996,279.76001,252.229996,295.390015,242.679993,221.309998,143.669998,29.51,195.740005,41.830002,205.820007,290.23999,27.120001,263.859985,210.910004,191.559998,30.299999,239.720001,200.100006,366.480011,36.09,362.329987,23.25,352.850006,254.339996,350.98999,22.299999,185.020004,212.940002,55.509998,320.230011,199.970001,251.929993,32.25,33.110001,303.149994,19.870001,291.720001,223.059998,208.960007,329.899994,204.25,219.580002,32.130001,315.730011,27.52,27.459999,286.940002,356.910004,194.940002,268.950012,31.15,363.059998,36.580002,29.58,190.339996,27.33,335.070007,26.5,24.68,343.850006,207.300003,147.470001,217.020004,210.240005,310.170013,259.320007,33.82,28.77,27.549999,312.600006,25.85,229.080002,242.779999,307.519989,34.830002,24.07,227.820007,259.149994,35.080002,314.619995,210.949997,166.229996,18.77,251.820007,205.809998,28.32,223.570007,34.400002,213.979996,32.560001,319.269989,204.009995,30.99,38.27,328.23999,345.100006,139.339996,207.850006,26.389999,317.549988,19.889999,33.16,276.589996,250.690002,194.470001,23.18,150.100006,310.119995,230.570007,261.950012,230.130005,245.619995,31.75,212.279999,29.25,340.059998,26.66,104.629997,26.93,283.76001,230.610001,20.43,215.460007,31.49,30.799999,253.0,202.550003,19.940001,29.35,331.660004,29.25,315.399994,255.210007,28.92,347.51001,46.970001,241.929993,37.040001,229.25,218.130005,337.950012,23.709999,19.84,181.470001,207.610001,207.729996,24.49,259.570007,29.48,327.170013,215.149994,230.470001,190.059998,20.65,166.220001,201.619995,298.519989,310.549988,33.23,183.389999,27.07,19.9,248.479996,178.699997,308.029999,207.990005,280.690002,283.369995,28.290001,126.089996,31.34,37.740002,344.0,229.699997,20.85,320.100006,139.669998,51.200001,223.710007,264.820007,33.939999,294.839996,28.57,166.449997,349.540009,322.470001,200.949997,269.230011,21.059999,216.220001,313.26001,33.439999,277.380005,265.649994,31.66,343.920013,218.259995,225.399994,35.360001,267.869995,241.460007,138.699997,19.200001,30.01,217.929993,26.6,174.419998,27.620001,202.240005,298.920013,296.839996,220.539993,217.479996,21.049999,226.25,385.0,341.029999,242.990005,213.690002,305.019989,33.779999,33.619999,258.0,315.359985,219.580002,222.660004,121.610001,202.880005,33.299999,31.27,225.330002,191.929993,253.75,35.150002,178.729996,183.559998,195.300003,237.369995,222.270004,347.309998,32.310001,229.009995,251.330002,266.769989,201.0,234.240005,351.399994,279.179993,28.620001,228.490005,34.59,311.23999,20.9,258.779999,27.559999,178.380005,325.220001,110.330002,235.839996,280.600006,204.029999,184.669998,20.75,356.410004,31.610001,188.020004,217.75,225.0,124.169998],\"type\":\"scatter\"},{\"mode\":\"lines\",\"name\":\"Predicted\",\"x\":[365,1111,1581,1990,1753,1357,135,1851,123,677,1946,525,414,2114,2173,1115,719,986,1403,2001,68,182,70,737,1180,1614,1526,292,280,1145,1613,800,1600,171,790,1185,1726,1027,920,1457,260,1261,1597,119,552,576,1227,1579,217,2023,383,704,5,933,149,1841,587,1809,2103,2010,84,1390,1589,1644,941,2080,544,1546,1635,1987,2090,698,970,1066,124,269,1377,185,1953,1323,87,1951,1198,447,603,1169,1171,949,449,1748,1201,1166,470,745,1979,955,1538,1515,196,1445,1758,7,959,1380,1430,844,1770,1376,1399,969,1948,1985,1823,664,2074,597,340,765,1138,115,1379,1827,440,1048,1557,2116,1168,1450,1772,2030,1186,16,148,1230,1308,2181,20,287,231,817,34,336,1018,1263,1441,1814,492,45,466,488,680,1965,1960,1147,1233,1249,862,1519,747,1245,1950,1444,1012,246,186,946,203,1653,1764,1271,1057,608,1181,30,670,812,1779,439,1749,1646,1470,460,1046,668,248,1544,298,574,1481,1694,1619,1939,1656,1742,1727,1221,1059,2152,1647,570,1050,1975,291,803,779,1079,1968,657,307,2130,1431,1995,653,1909,347,919,706,114,125,1855,1679,1484,703,1140,1060,1183,2191,2042,1864,1947,744,1602,1570,2050,2147,361,151,306,1717,369,1236,2168,892,175,1128,555,1820,72,1834,1723,1493,141,693,421,1815,1535,197,691,1131,1777,1700,829,915,899,1798,1030,876,61,1856,2046,455,2056,130,1182,413,1751,2154,375,105,1427,458,2062,25,1761,1769,1387,836,536,1988,583,54,963,33,2019,1318,1556,548,1912,1904,1042,1311,12,1302,2096,516,1114,1152,209,1711,351,1006,1914,31,1922,754,1804,370,1730,996,2039,1628,475,1745,1920,1196,859,1412,1735,417,990,1843,2134,832,1504,799,1218,692,1824,407,897,1026,139,877,1024,1773,2146,69,568,1322,1242,533,327,1398,80,127,433,1852,1005,678,529,784,1280,864,628,422,1286,1652,432,914,1250,277,400,1130,462,816,1137,23,665,1845,1213,1976,937,1392,1348,559,1978,866,1496,661,1705,1419,2057,128,972,1254,384,266,1397,331,954,560,1384,1466,551,103,1146,1061,1925,1618,1329,741,1206,121,1036,1307,1358,878,2136,1587,1051,2129,723,766,1415,962,823,425,1894,778,505,716,28,652,1292,1359,1304,1501,968,630,2084,1887,500,1934,24,713,1402,861,328,1355,1009,1281,1469,1473,1370,783,268,1610,1534,339,118,285,618,1866,2132,1343,1129,786,714,688,761,448,2005,313,709,117,845,165,1500,309,249,434,1867,1072,267,390,1187,399,1315,518,1882,1550,1974,2110,624,446,405,2145,528,1645,2015,1443,1478,1363,991,942,2081,683,2159,1712,85,1331,1510,978,975,1800,290,1860,333,108,596,1862,956,1101,483,2011,1984,2151,586,237,1622,985,1296,1521,1853,567,1369,279,1870,271,1211,1848,1664,981,2026,1927,848,143,573,873,647,2148,1905,782,471,88,687,577,1551,1506,318,1558,274,1911,2061,308,1092,341,1871,2150,795,1135,682,1225,1284,1053,1706,874,1305,666,21,894,65,42,1725,15,410,1710,1040,1175,1463,415,2037,957,2000,1554,174,1719,808,431,1886,2060,605,1277,1938,241,1434,2101,1747,107,1836,408,1453,2013,1590,1754,650,1086,1873,1432,1255,1991,1347,2115,625,1120,1362,610,1624,726,2066,1739,1405,1778,513,2124,1972,1880,1631,2169,918,1117,64,1924,858,106,1033,1204,2172,1456,932,1417,1802,1876,1195,204,902,468,1681,1404,1321,1903,464,997,1857,8,1774,752,729,232,170,1406,635,1593,498,1741,222,1744,43,1252,1844,281,1669,463,673,901,335,2149,699,2183,1289,648,1447,435,1210,1155,1461,1609,205,1134,1810,1019,1806,2078,1955,1737,1313,1677,1575,1840,924,491,686,1740,1592,740,1908,715,636,1545,1568,133,1562,1229,403,598,1154,1962,1689,445,1569,824,1928,1103,999,1365,846,1598,791,646,1838,1179,517,1605,1884,1332,1409,789,1872,1517,154,2102,1574,1172,1981,1410,593,2185,961,522,173,372,1193,1930,689,2007,772,1237,2018,1041,202,86,113,443,220,798,27,1381,1989,2165,1907,523,1536,1897,1035,1394,613,802,1571,167,1633,615,888,893,695,595,948,388,227,958,461,310,660,1045,1449,1508,250,1483,1578,1312,2178,294,1564,1682,885,368,1982,1108,1859,514,755,1153,1113,880,363,1220,275,83,1282,234,1941,2099,473,1028,658,13,1606,1038,1513,562,476,1584,39,1901,1077,1458,1345,391,1386,1997,1505,1356,38,322,1238,1290,1339,1088,571,1684,883,188,29,262,1817,244,229,1685,1303,1964,1090,530,916,1350,4,314,2027,1958,1093,702,572,1861,206,818,1673,642,1785,1170,1039,406,1460,2070,1197,102,934,1640,2138,2017,1224,487,58,272,1104,1275,1023,1272,1462,1257,2044,806,935,1649,2012,725,348,2067,442,1468,1259,2161,338,1830,582,1826,826,728,1448,1285,53,807,2105,392,1787,1110,441,989,620,1994,1486,724,809,474,176,565,1141,1952,316,1352,1148,2164,1062,1756,998,1549,424,727,777,1963,1846,1729,120,1926,1490,685,293,1837,1065,2108,164,1957,350,131,1078,1482,820,270,1799,667,150,66,1721,261,1752,1738,1287,939,160,259,738,332,945,438,428,2016,386,1498,764,2163,1509,364,1695,550,616,2048,542,278,1202,401,503,943,547,397,830,57,1529,1765,159,2170,2034,886,1819,344,1411,95,2089,1796,872,1528,1696,317,736,538,255,2179,1641,771,1888,2177,796,1239,1648,1471,717,385,965,1043,1627,1375,655,1366,2024,890,1902,2192,2094,656,156,827,1697,1789,763,345,1601,1879,282,301,712,1891,1310,1177,2109,912,450,2188,1189,833,312,1231,472,1396,1438,1801,166,1913,324,283,526,302,181,2095,78,1112,382,2098,1771,1792,837,1835,427,1119,2127,349,1651,633,152,681,879,2025,600,1883,701,1194,527,1407,1661,1715,91,1923,2143,905,825,911,276,604,1961,1516,581,1099,1731,200,1475,553,1094,951,953,578,1067,1316,2175,993,1755,199,1895,549,426,296,1167,675,2156,751,1701,1157,329,2041,842,305,51,644,1068,377,2040,2122,315,785,852,627,243,2093,404,1690,411,211,1070,645,504,1698,1000,1217,944,1246,1977,1244,1295,1734,1037,1455,1768,1847,1767,865,2106,1235,672,1004,17,1832,153,1766,2082,1585,14,854,73,881,2182,519,2071,1467,1956,1732,1007,1877,2160,93,76,1368,2065,2180,889,2091,223,1522,215,521,1863,396,387,480,1174,1367,511,1808,1998,676,297,1176,839,1511,1326,1986,494,2051,1623,2054,746,169,1439,2123,1632,1069,409,838,1,112,398,1626,1301,638,496,590,983,380,1703,1762,2002,437,1121,1670,2087,2137,1071,1334,1414,541,1429,697,1126,1966,238,1049,967,977,539,1008,1583,1821,430,1795,158,1746,1044,1929,289,1611,1354,718,2028,1400,1659,453,502,2058,59,1993,1013,1477,2100,1143,1017,606,1919,588,251,1954,1788,1603,1671,594,2125,444,402,1425,580,1783,245,145,1781,982,871,1374,984,1718,1064,611,478,221,1865,311,1539,1109,2077,671,177,1132,1266,684,1893,1139,810,35,1465,1573,546,1025,634,1514,358,2055,1595,101,662,1775,1842,891,1393,207,1868,11,456,2186,1247,1561,163,884,2142,1383,2083,1446,1232,359,1512,575,1900,192,733,208,1992,1531,71,950,110,97,921,1401,22,554,1885,591,1858,1074,592,2009,705,1100,663,1010,1015,1898,190,10,1620,1479,966,144,1076,558,1937,1436,1085,1604,79,811,1149,1702,1944,609,813,219,40,1309,828,1716,960,1969,1967,253,855,561,654,2111,1382,82,2053,788,711,1118,1278,465,2069,378,797,2038,2021,1582,1667,46,1485,1874,451,1699,1268,357,2119,1127,947,632,1274,1327,851,3,540,1502,394,907,239,1594,2155,1709,1021,1161,47,1523,1818,1878,1300,1639,1980,499,419,1688,1889,1487,1011,760,1164,362,512,1351,1426,1464,436,906,831,979,1288,1527,2153,343,1643,1662,1273,1580,1442,2107,1949,371,1530,623,1875,49,2088,477,908,1728,732,936,1668,1576,973,75,2045,599,1599,1361,1547,863],\"y\":[50.40381287073907,177.5435410585022,257.64497838859427,327.3502717247808,286.9586958796067,219.46897421425254,11.205237156013165,303.6606977058812,9.160094075244857,103.57753297071507,319.85141376196367,77.67238728098317,58.75481378387633,348.48341689271996,358.5387037064975,178.2252554187583,110.73553375340416,156.23996730049902,227.30868935719772,329.22498621548505,-0.21347837827655525,19.21538088902237,0.12737880185149741,113.80324837455662,189.30311377291997,263.2691218607071,248.2714059350729,37.962525796065194,35.91738271529689,183.33811312067908,263.0986932706431,124.54024954859023,260.88312159981075,17.34066639831809,122.83596364794997,190.15525672324011,282.357123947878,163.22753949312406,144.99168035627332,236.5118332206551,32.50881091401637,203.10782956810607,260.3718358296187,8.478379714988755,82.27395921271187,86.36424537424848,197.3132575059292,257.3041212084662,25.180381541263273,332.97441519689363,53.471527491891536,108.17910490244377,-10.95047955231017,147.20725202710565,13.591237416909525,301.956411805241,88.23895986495276,296.5026969231921,346.6087024020157,330.7588435260613,2.5133790627478554,225.09311768636536,259.0084071091065,268.3819795626279,148.57068074761784,342.6888448305431,80.91053049219965,251.67997773635335,266.84812225205167,326.8389859545887,344.39313073118336,107.15653336205962,153.51310985947458,169.87425450562105,9.330522665308884,34.0426682245926,222.87754601553303,19.726666659214448,321.0444138924118,213.67440215207566,3.0246648329399335,320.7035567122838,192.37082839407245,64.37895725598918,90.96581730597718,187.4283992822157,187.76925646234375,149.93410946813006,64.71981443611722,286.1065529292866,192.88211416426452,186.91711351202363,68.29881482746177,115.16667709506882,325.4755572340765,150.9566810085142,250.3165490158412,246.39669144436857,21.60138114991873,234.4666901398868,287.8108388299268,-10.60962237218212,151.63839536877032,223.38883178572513,231.9102612889264,132.03910751140737,289.8559819106951,222.70711742546902,226.6269749969416,153.34268126941058,320.1922709420917,326.49812877446067,298.88869718408847,101.36196129988274,341.6662732901589,89.94324576559302,46.14309811913843,118.57524889634934,182.1451129902309,7.796665354732653,223.2184031956611,299.5704115443446,63.185957125540995,166.8065398844686,253.55469222705767,348.824274072848,187.25797069215167,235.3188330902069,290.1968390908232,334.1674153273418,190.32568531330415,-9.075765061605889,13.420808826845498,197.82454327612126,211.11797330111526,359.9021324270097,-8.394050701349787,37.110382845745065,27.566381802159626,127.43753557967867,-6.008050440453427,45.46138375888232,161.69368218254783,203.4486867482341,233.78497577963068,297.3548398735123,72.04824380887032,-4.133335949749145,67.61710046720566,71.36652944861423,104.08881874090716,323.08955697318015,322.23741402286,183.67897030080715,198.33582904631334,201.06268648733774,135.1068221325598,247.0784058046247,115.50753427519687,200.38097212708166,320.53312812221975,234.29626154982276,160.67111064216368,30.122810653120013,19.897095249278475,149.422823697938,22.794381280366913,269.9158368732041,288.83341037031096,204.81211546874633,168.34039719504483,91.81796025629731,189.473542362984,-6.689764800709529,102.3845328402669,126.58539262935855,291.38983922127136,63.01552853547696,286.2769815193506,268.72283674275593,238.72740489148742,66.59452892682151,166.46568270434054,102.04367566013885,30.463667833248067,251.33912055622534,38.98509733644935,86.02338819412043,240.60211938219172,276.9034090658292,264.12126481102723,318.6584136315155,270.4271226433962,285.08398138890243,282.52755253794203,196.29068596554504,168.68125437517287,354.9597033151529,268.89326533281996,85.34167383386433,167.14739706459665,324.7938428738204,37.792097206001166,125.0515353187823,120.9612491572457,172.08982617645339,323.6008427433722,100.16896116943457,40.51895464702558,351.2102743337444,232.08068987899043,328.2024146751009,99.48724680917846,313.5455559295947,47.336098249586605,144.8212517662093,108.51996208257182,7.626236764668626,9.500951255372907,304.3424120661373,274.3469802148688,241.1134051523838,108.00867631237975,182.48597017035897,168.8516829652369,189.81439954311207,361.6064183276499,336.2125584081101,305.87626937671354,320.02184235202765,114.9962485050048,261.2239787799388,255.77026389789,337.57598712862233,354.1075603648328,49.722098510482965,13.932094597037576,40.34852605696155,280.82326663730174,51.08552723099517,198.8471148165054,357.68656075617736,140.2196798344806,18.02238075857419,180.44082708959064,82.78524498290395,298.3774114138964,0.4682359819795483,300.7634116747928,281.84583817768595,242.64726246296001,12.227808696397318,106.30439041173949,59.9478139143245,297.52526846357625,249.8052632456491,21.771809739982757,105.96353323161144,180.95211285978272,291.0489820411433,277.92598060621333,129.48267866044696,144.13953740595318,141.41267996492877,294.62798243248784,163.73882526331613,137.49282239345618,-1.4064785087247333,304.5128406562013,336.8942727683662,65.74238597650138,338.5985586690065,10.353094205693036,189.64397095304804,58.584385193812295,286.6178386994786,355.300560495281,52.108098771379325,6.092379454092395,231.39897551873432,66.25367174669346,339.6211302093906,-7.541907751029658,288.3221246001189,289.68555332063113,224.5818319161733,130.67567879089515,79.54710177168745,327.0094145446527,87.55724550469667,-2.599478639172913,152.32010972902643,-6.178479030517453,332.2927008366375,212.82225920175551,253.38426363699364,81.59224485245576,314.0568416997868,312.69341297927457,165.78396834408446,211.62925907130736,-9.75747942186199,210.0954017607311,345.4157022715675,76.13852997040695,178.0548268286943,184.53111325112727,23.816952820751062,279.8006950969176,48.01781260984271,159.6485391017795,314.3976988799148,-6.519336210645504,315.761127600427,116.70053440564504,295.650553972872,51.255955821059196,283.0388383081341,157.94425320113928,335.701272637918,265.6551221216035,69.1509577777819,285.5952671590945,315.420270420299,192.0299712139444,134.59553636236774,228.84254666777395,283.89098125845425,59.266099554068404,156.9216816607551,302.297268985369,351.8919886940005,129.99396443063904,244.5219769536643,124.36982095852622,195.77940019535296,106.13396182167546,299.0591257741525,57.561813653428146,141.07182278480073,163.05711090306002,11.886951516269267,137.66325098352021,162.71625372293198,290.3672676808872,353.9371317747688,-0.04304978821252803,85.00081665373628,213.50397356201162,199.8696863568896,79.03581600149538,43.92752644830609,226.45654640687758,1.8316647024917536,9.841808435500958,61.99295699509281,303.83112629594524,159.4781105117155,103.7479615607791,78.35410164123928,121.81339210756582,206.34597277932255,135.44767931268788,95.22653205757781,60.11824250438853,207.3685443197067,269.7454082831401,61.82252840502879,143.96910881588917,201.23311507740178,35.40609694510481,56.36881352297996,180.7816842697187,66.93538610694955,127.26710698961463,181.9746844001669,-7.882764931157709,101.53238988994677,302.63812616549706,194.92725724503282,324.9642714638844,147.88896638736176,225.43397486649343,217.9351169036763,83.46695934316004,325.3051286440125,135.78853649281592,243.1585482331521,100.85067552969066,278.77812355653344,230.03554679822213,338.7689872590705,10.012237025564986,153.85396703960265,201.9148294376579,53.641956081955556,33.53138245440053,226.28611781681354,44.6092408085622,150.78625241845018,83.63738793322408,224.0705461459812,238.04569053123132,82.10353062264784,5.751522273964344,183.50854171074312,169.02211155530094,316.2724133706191,263.95083622096325,214.6969736924598,114.48496273481271,193.73425711458466,8.819236895116806,164.76139680370028,210.94754471105125,219.63940280431655,137.83367957358422,352.23284587412854,258.6675499289784,167.31782565466068,351.03984574368036,111.41724811366025,118.74567748641337,229.35383243796602,152.1496811389624,128.46010712006282,60.62952827458061,310.9891270786343,120.79082056718167,74.26381547970266,110.22424798321208,-7.030621980837581,99.31681821911444,208.39111586009085,219.80983139438058,210.43625894085918,244.01069118347223,153.17225267934654,95.56738923770587,343.3705591907992,309.79612694818616,73.41167252938253,317.8062706811953,-7.712336341093684,109.71296221302,227.1382607671337,134.9363935424958,44.09795503837012,219.12811703412447,160.1598248719716,206.51640136938659,238.5569763014234,239.2386906616795,221.68454588508487,121.64296351750178,33.872239634528576,262.58740750045104,249.63483465558505,45.9726695290744,8.307951124924728,36.76952566561702,93.52224615693756,306.2171265568416,351.5511315138724,217.08297395335617,180.61125567965468,122.15424928769389,109.88339080308403,105.45224746141936,117.89353453609323,64.5493858460532,329.9067005757412,41.54152618740974,109.0312478527639,8.137522534860704,132.2095361014714,16.318094857933936,243.8402625934082,40.85981182715363,30.634096423312094,62.163385585156846,306.38755514690564,170.8968260460052,33.701811044464556,54.664527622339705,190.49611390336815,56.19838493291594,212.31097343156344,76.47938715053499,308.943983997866,252.3616920966095,324.62341428375635,347.8017025324639,94.54481769732172,64.20852866592514,57.22095647330009,353.76670318470474,78.18367305117525,268.5524081526919,331.6109864763814,234.12583295975872,240.09083361199964,220.4915457546367,157.09211025081913,148.74110933768188,342.8592734206071,104.60010451109923,356.1527034456011,279.9711236869816,2.6838076528118826,215.03783087258785,245.54454849404846,154.8765385799868,154.36525280979473,294.9688396126159,37.621668615937146,305.19455501645746,44.950097988690246,6.603665224284473,89.772817175529,305.53541219658547,151.12710959857824,175.83925515786197,70.5143864982941,330.92927211612533,326.32770018439663,354.7892747250889,88.06853127488874,28.588953342543782,264.63255058121933,156.06953871043498,209.07283022034696,247.41926298475272,304.0015548860093,84.83038806367225,221.51411729502084,35.74695412523286,306.8988409170977,34.38352540472066,194.58640006490478,303.1494119356891,271.7905513639084,155.38782435017887,333.4857009670857,316.61327055074713,132.72082187166347,12.568665876525369,85.85295960405641,136.9815366232641,98.46467526879431,354.27798895489684,312.8638415693386,121.47253492743778,68.46924341752579,3.195093423003959,105.28181887135533,86.5346739643125,252.53212068667352,244.86283413379238,42.39366913772986,253.7251208171217,34.89481117491273,313.88641310972275,339.4507016193266,40.68938323708961,174.30539784728572,46.31352670920245,307.0692695071617,354.61884613502485,123.68810659827011,181.63382722003882,104.4296759210352,196.97240032580115,207.02768713957866,167.65868283478872,278.9485521465975,137.15196521332814,210.60668753092318,101.70281848001079,-8.22362211128576,140.56053701460866,-0.7247641484686316,-4.644621719941222,282.18669535781396,-9.246193651669914,58.07309942362022,279.63026650685356,165.4431111639564,188.45097082259986,237.53440476103924,58.92524237394035,335.36041545779,151.29753818864225,329.054557625421,253.04340645686557,17.851952168510167,281.1641238174298,125.90367826910244,61.65209981496476,309.6256983581221,339.28027302926256,91.30667448610522,205.83468700913048,318.48798504145145,29.270667702799884,232.5919756491825,346.2678452218876,285.93612433922254,6.433236634220446,301.1042688549208,57.732242243492166,235.83011886039898,331.27012929625334,259.1788356991705,287.1291244696707,98.97596103898638,173.28282630690157,307.4101266872898,232.25111846905446,202.08525802772192,327.5207003148448,217.76468831361228,348.653845482784,94.71524628738574,179.07739836907845,220.32111716457266,92.15881743642535,264.9734077613474,111.92853388385234,340.3028445696467,284.5726956187103,227.64954653732576,291.2194106312073,75.62724420021486,350.1877027933602,324.28255710362833,308.603126817738,266.1664078917956,357.8569893462414,144.65082317614525,178.56611259888638,-0.895192738532657,316.1019847805551,134.42510777230373,6.262808044156422,164.2501110335082,193.3933999344566,358.36827511643344,236.34140463059106,147.03682343704162,229.69468961809406,295.3096967927439,307.92141245748184,191.85954262388037,22.964809870430933,141.92396573512085,67.95795764733371,274.68783739499685,227.47911794726173,213.33354497194762,312.52298438921054,67.2762432870776,158.11468179120328,304.68326924626535,-10.439193782118094,290.53769627095124,116.359677225517,112.43981965404441,27.736810392223653,17.170237808254065,227.8199751273898,96.419532188026,259.69012146936257,73.07081534925449,284.9135527988384,26.032524491583395,285.42483856903044,-4.474193129877196,201.57397225752985,302.467697575433,36.087811305360916,272.64269431422855,67.10581469701359,102.89581861045897,141.7535371450568,45.2909551688183,354.4484175449609,107.32696195212364,360.2429896071377,207.87983008989877,98.63510385885833,234.80754732001483,62.333814175220866,194.41597147484075,185.04239902131934,237.1935475809112,262.416978910387,23.13523846049496,181.4633986299748,296.67312551325614,161.86411077261187,295.99141115300006,342.347987650415,321.38527107253987,284.23183843858226,211.9701162514354,274.00612303474077,256.6224068482101,301.78598321517694,145.6733947165294,71.8778152188063,105.1113902812913,284.74312420877436,259.51969287929853,114.31453414474869,313.37512733953065,110.05381939314805,96.58996077809002,251.50954914628937,255.42940671776194,10.864379975885115,254.4068351773778,197.65411468605726,56.88009929317204,90.11367435565705,184.8719704312553,322.57827120298805,276.05126611550907,64.03810007586112,255.59983530782597,128.63053571012685,316.78369914081117,176.18011233799,158.45553897133135,220.83240293476473,132.3799646915354,260.54226441968274,123.006392238014,98.29424667873027,301.4451260350489,189.13268518285597,76.30895856047097,261.73526455013086,309.28484117799405,215.20825946265188,228.33126089758187,122.66553505788596,307.23969809722576,246.73754862449664,14.443380367229654,346.43827381195166,256.4519782581461,187.93968505240778,325.81641441420453,228.50168948764588,89.26153140533692,360.58384678726577,151.97925254889836,77.1611015107911,17.68152357844614,51.59681300118725,191.51868544375233,317.12455632093923,105.62267605148338,330.2475577558692,119.76824902679752,199.01754340656944,332.1222722465735,165.61353975402042,22.623952690302886,2.854236242875908,7.455808174604602,63.69724289573307,25.691667311455348,124.19939236846218,-7.201050570901606,223.55926037578914,327.17984313471675,357.17527498598525,313.2046987494666,77.33153010085512,249.97569183571312,311.5004128488264,164.59096821363627,225.77483204662147,92.67010320661743,124.8811067287183,255.94069248795404,16.658952038061987,266.5072650719236,93.01096038674548,139.53796547422448,140.39010842454462,106.64524759186753,89.60238858546496,149.76368087806603,54.323670442211665,26.884667441903524,151.46796677870628,66.76495751688553,41.030240417217655,100.68024693962664,166.29525411427653,235.1484045001429,245.2036913139204,30.804525013376114,240.94297656231976,257.1336926184022,211.79968766137137,359.3908466568176,38.30338297619325,254.74769235750585,274.8582659850609,139.0266797040324,50.91509864093115,325.98684300426856,177.03225528831013,305.0241264263934,75.7976727902789,116.87096299570908,184.7015418411913,177.88439823863027,138.1745367537123,50.06295569061102,196.120257375481,35.06523976497676,2.34295047268383,206.6868299594506,28.077667572351707,318.9992708116435,345.92698804175956,68.81010059765384,163.3979680831881,100.33938975949859,-9.587050831797967,261.9056931401949,165.10225398382835,246.05583426424056,83.97824511335213,69.32138636784592,258.15626415878637,-5.155907490133298,312.18212720908247,171.74896899632535,236.68226181071913,217.4238311334842,54.83495621240374,224.41140332610928,328.54327185522897,244.69240554372834,219.2985456241885,-5.326336080197324,43.07538349798597,199.18797199663348,208.0502586799628,216.40125959310006,173.6236834870296,85.51210242392835,275.1991231651889,138.68582252390436,20.237952429406526,-6.8601933907735555,32.84966809414443,297.8661256437043,29.781953472991965,27.22552462203158,275.3695517552529,210.26583035079514,322.9191283831161,173.96454066715768,78.5245302313033,144.3099659960172,218.27597408380436,-11.120908142374198,41.71195477747376,333.6561295571497,321.89655684273197,174.47582643734975,107.83824772231571,85.68253101399237,305.36498360652143,23.305667050558988,127.6079641697427,273.32440867448463,97.61253231847418,292.4124107616555,187.59882787227974,165.27268257389235,57.391385063364126,237.02311899084717,340.98455892990285,192.2003998040084,5.581093683900317,147.37768061716966,267.7002652023718,352.57370305425655,331.9518436565095,196.8019717357371,71.1961008585502,-1.9177642789168114,34.55395399478468,176.35054092805404,205.49382982900244,162.54582513286795,204.98254405881033,237.36397617097523,202.42611520784996,336.5534155882382,125.56282108897437,147.5481092072337,269.23412251294803,331.0997007061893,111.7581052937883,47.50652683965063,340.47327315971074,63.52681430566905,238.38654771135938,202.766972387978,356.4935606257292,45.802240939010375,300.08169731453665,87.38681691463263,299.3999829542806,128.9713928902549,112.26939106398038,234.97797591007887,207.19811572964267,-2.7699072292369387,125.73324967903841,346.9495595821437,55.00538480246776,292.7532679417836,177.3731124684382,63.356385715605015,156.7512530706911,93.86310333706561,328.03198608503686,241.45426233251183,111.58767670372428,126.07410685916648,68.98052918771786,18.192809348638217,84.4895308835442,182.65639876042297,320.8739853023478,42.05281195760181,218.6168312639324,183.84939889087116,357.0048463959212,169.19254014536494,287.46998164979874,158.28511038126732,252.19126350654545,60.45909968451659,112.09896247391636,120.62039197711763,322.7486997930521,302.8085547555611,282.8684097180701,8.648808305052782,316.44284196068315,242.13597669276794,104.94096169122729,38.13295438612922,301.27469744498484,169.70382591555705,347.4608453523358,16.14766626786991,321.72612825266793,47.84738401977868,10.523522795757064,171.91939758638938,240.77254797225572,127.94882134987074,34.21309681465663,294.7984110225519,101.87324707007483,13.761666006973549,-0.5543355584046061,281.5049809975579,32.6792395040804,286.78826728954266,284.4022670286463,207.53897290977073,148.2298235674898,15.465951907613807,32.338382323952345,113.97367696462064,44.77966939862622,149.25239510787395,62.84509994541294,61.14081404477268,331.78141506644545,53.98281326208361,243.49940541328016,118.4048203062853,356.8344178058572,245.37411990398442,50.23338428067504,277.0738376558932,81.93310203258382,93.18138897680952,337.23512994849426,80.56967331207161,35.576525535168834,193.05254275432856,56.539242113044,73.9229582995746,148.9115379277459,81.42181626239174,55.85752775278789,129.653107250511,-2.088192868980837,248.78269170526494,289.003838960375,15.29552331754978,358.02741793630537,334.8491296875979,139.19710829409644,298.2069828238324,46.82481247939453,228.6721180777099,4.388093553452137,344.2227021411193,294.2871252523598,136.81110803320007,248.6122631152009,277.24426624595725,42.22324054766584,113.6328197844926,79.8879589518155,31.656667963696243,359.5612752468816,267.8706937924358,119.59782043673349,309.96655553825013,359.22041806675355,123.85853518833412,199.35840058669748,269.063693922884,238.89783348155146,110.3946765732761,53.812384672019576,152.66096690915447,165.95439693414846,265.48469353153945,222.536688835405,99.82810398930651,221.00283152482876,333.14484378695767,139.87882265435255,312.3525557991465,361.77684691771395,345.07484509143944,99.99853257937053,14.784237547357705,129.14182148031892,277.4146948360212,293.0941251219116,118.2343917162213,46.99524106945856,261.0535501898748,308.43269822767394,36.258239895424936,39.496383106641424,109.54253362295597,310.47784130844224,211.45883048124333,188.7918280027279,347.63127394239984,143.6282516357611,64.89024302618125,361.0951325574579,190.83697108349622,130.16439302070307,41.37109759734571,197.9949718661853,68.63967200758981,226.11568922674954,233.2736900094386,295.13926820267994,16.48852344799796,314.2272702898508,43.416240678114015,36.42866848548896,77.8428158710472,39.66681169670545,19.044952298958346,345.2452736815035,1.4908075223637027,177.71396964856623,53.3010989018275,345.7565594516955,290.02641050075914,293.6054108921037,130.84610738095918,300.93384026485677,60.97038545470866,178.90696977901442,350.6989885635523,47.67695542971466,269.57497969307605,96.07867500789794,14.102523187101603,104.25924733097118,138.00410816364825,333.3152723770217,90.4545315357851,309.11441258793,107.6678191322517,191.68911403381634,78.01324446111123,227.9904037174538,271.27926559371633,280.48240945717373,3.7063791931960353,315.93155619049105,353.4258460045767,142.43525150531292,128.80096430019088,143.45782304569707,35.23566835504079,91.1362458960412,322.407842612924,246.5671200344326,87.21638832456861,175.4983979777339,283.2092668981981,22.28309551017483,239.57954784180757,82.44438780277589,174.6462550274138,150.2749666482581,150.61582382838617,86.70510255437654,170.0446830956851,212.48140202162747,358.87956088662554,157.43296743094717,287.29955305973476,22.112666920110804,311.1595556686983,81.76267344251978,60.79995686464463,38.644240156321295,187.08754210208764,103.23667579058703,355.64141767540906,116.18924863545297,278.09640919627736,185.38325620144738,44.268383628434144,336.0421298180461,131.6982503312793,40.178097466897526,-3.1107644093649913,97.95338949860223,170.21511168574912,52.44895595150737,335.87170122798204,349.8468456132322,41.882383367537784,121.98382069762985,133.40253623191956,95.0561034675138,29.611524882927938,344.9044165013754,57.05052788323607,276.2216947055731,58.243528013684255,24.157810000879117,170.55596886587716,98.12381808866625,74.09338688963864,277.58512342608526,158.62596756139536,195.60897160528893,149.08196651780992,200.55140071714567,325.13470005394845,200.21054353701763,208.90240163028292,283.7205526683902,164.9318253937643,236.17097604052705,289.5151247305671,302.9789833456251,289.34469614050306,135.6181079027519,347.11998817220774,198.6766862264414,102.72539002039494,159.30768192165147,-8.905336471541863,300.4225544946647,14.272951777165627,289.174267550439,343.02970201067114,258.3266927488504,-9.41662224173394,133.74339341204762,0.6386645720435737,138.34496534377632,360.0725610170737,76.64981574059902,341.1549875199668,238.21611912129535,321.5556996626039,283.37969548826214,159.81896769184354,308.09184104754587,356.32313203566514,4.047236373324088,1.1499503422356518,221.3436887049568,340.1324159795827,359.73170383694566,139.7083940642885,344.56355932124734,26.202953081647422,247.58969157481675,24.83952436113522,76.99067292072708,305.7058407866495,55.68709916272387,54.15324185214763,70.00310072810203,188.28054223253582,221.17326011489277,75.28638702008682,296.3322683331281,328.713700445293,103.40710438065105,38.81466874638532,188.6213994126639,131.18696456108722,245.7149770841125,214.18568792226773,326.66855736452464,72.38910098899838,337.74641571868636,264.80297917128337,338.2577014888784,115.33710568513284,16.999809218190038,233.44411859950264,350.0172742032962,266.33683648185956,170.38554027581313,57.9026708335562,131.01653597102322,-11.632193912566274,7.285379584540575,56.02795634285191,265.3142649414754,209.9249731706671,96.93081795821807,72.72995816912643,88.75024563514484,155.72868153030691,52.96024172169945,278.43726637640543,288.49255319018295,329.3954148055491,62.67467135534892,179.24782695914246,272.8131229042926,343.88184496099126,352.4032744641925,170.7263974559412,215.54911664277995,229.18340384790199,80.39924472200758,231.7398326988624,106.98610477199558,180.0999699094626,323.25998556324413,28.75938193260781,166.9769684745326,153.0018240892825,154.70610998992277,80.05838754187954,159.98939628190757,257.98583556872234,298.54784000396046,61.48167122490074,294.1166966622958,15.125094727485756,285.7656957491585,166.1248255242125,316.9541277308752,37.45124002587312,262.75783609051507,218.95768844406044,110.56510516334012,333.82655814721375,226.79740358700562,270.93840841358826,65.40152879637333,73.75252970951058,338.9394158491345,-1.747335688852786,327.8615574949728,160.8415392322277,239.9204050219356,346.0974166318236,182.99725594055104,161.5232535924838,91.47710307616926,315.24984183023497,88.4093884550168,30.97495360344014,321.21484248247583,292.9236965318476,261.39440737000285,272.98355149435656,89.43195999540094,350.3581313834242,63.86767148579709,56.70967070310802,231.05811833860628,87.04595973450459,292.07155358152744,29.952382063055985,12.909523056653423,291.7306964013994,155.5582529402429,136.64067944313607,222.36626024534095,155.89911012037095,280.9936952273658,169.533397325493,92.32924602648939,69.66224354797397,25.862095901519375,306.0466979667776,41.20066900728168,250.48697760590522,177.20268387837416,342.17755906035103,102.55496143033092,18.363237938702245,181.12254144984675,203.95997251842618,104.77053310116325,310.8186984885703,182.31554158029493,126.24453544923048,-5.837621850389401,237.8752619411673,256.28154966808205,81.25138767232771,162.88668231299602,96.24910359796198,246.22626285430454,49.21081274029089,338.42813007894244,260.03097864949063,5.410665093836293,101.0211041197547,290.7081248610153,302.12684039530495,140.04925124441658,225.60440345655746,23.476095640623015,306.5579837369696,-9.927908011926018,65.9128145665654,360.7542753773298,200.7218293072097,254.23640658731375,15.977237677805885,138.8562511139684,353.2554174145127,223.9001175559172,343.2001306007352,234.6371187299508,198.16540045624933,49.38124133035491,245.88540567417652,86.19381678418446,312.0116986190185,20.919666789662628,113.12153401430051,23.646524230687035,327.69112890490885,249.123548885393,0.29780739191552286,150.1045380581941,6.944522404412524,4.7289507335801915,145.16210894633733,226.96783217706965,-8.053193521221734,82.61481639283991,309.4552697680581,88.92067422520887,304.8536978363294,171.23768322613327,89.09110281527289,330.58841493599726,108.34953349250779,175.66882656779794,101.19153270981872,160.3302534620356,161.18239641235576,311.6708414388904,20.578809609534574,-10.098336601990043,264.29169340109127,240.26126220206365,152.8313954992185,12.739094466589396,171.5785404062613,83.29653075309602,318.3175564513874,232.93283282931054,173.11239771683753,261.5648359600669,1.6612361124277282,126.41496403929452,184.0198274809352,278.2668377863414,319.5105565818356,91.98838884636133,126.75582121942256,25.52123872139132,-4.985478900069273,211.2884018911793,129.31225007038296,280.65283804723776,151.80882395883435,323.77127133343623,323.43041415330816,31.315810783568196,133.91382200211163,83.8078165232881,99.65767539924248,347.97213112252786,223.72968896585317,2.1725218826198045,338.0872728988144,122.49510646782193,109.37210503289195,178.73654118895038,206.0051155991945,67.44667187714164,340.8141303398388,52.61938454157141,124.02896377839815,335.53084404785403,332.63355801676556,257.8154069786583,272.3018371341005,-3.9629073596851185,241.28383374244783,307.5805552773538,65.06067161624527,277.7555520161493,204.30082969855425,49.04038415022686,349.3355598430401,180.27039849952664,149.593252288002,95.90824641783392,205.3234012389384,214.35611651233177,133.23210764185555,-11.291336732438223,80.22881613194356,244.18111977353624,55.346241982595814,142.776108685441,28.929810522671836,259.8605500594266,355.470989085345,279.4598379167896,162.2049679527399,186.0649705617035,-3.792478769621093,247.7601201648808,298.03655423376836,308.2622696376099,209.75454458060307,267.52983661230775,325.6459858241405,73.24124393931851,59.60695673419646,275.88083752544503,310.13698412831417,241.62469092257587,160.50068205209965,117.7231059460292,186.57625633189556,49.89252710054699,75.45681561015084,218.44640267386836,231.2285469286703,237.70483335110328,62.504242765284886,142.60568009537695,129.82353584057503,155.04696717005083,207.70940149983477,248.44183452513687,355.13013190521696,46.654383889330504,268.2115509725639,271.44969418378037,205.15297264887437,257.47454979853023,233.95540436969472,347.2904167622718,320.3626995321557,51.42638441112322,248.95312029532897,94.37438910725768,307.7509838674178,-3.451621589493042,344.0522735510553,69.49181495790994,142.946537275505,282.69798112800606,112.95110542423649,147.71853779729773,272.4722657241645,256.79283543827415,154.02439562966669,0.9795217521716246,336.72384417830216,90.28410294572107,260.7126930097467,220.15068857450862,251.85040632641739,135.27725072262385],\"type\":\"scatter\"}],                        {\"title\":{\"text\":\"Stock Prices of Tesla\"},\"xaxis\":{\"title\":{\"font\":{\"color\":\"#7f7f7f\",\"family\":\"Courier New, monospace\",\"size\":18},\"text\":\"Day\"}},\"yaxis\":{\"title\":{\"font\":{\"color\":\"#7f7f7f\",\"family\":\"Courier New, monospace\",\"size\":18},\"text\":\"Price\"}},\"template\":{\"data\":{\"bar\":[{\"error_x\":{\"color\":\"#2a3f5f\"},\"error_y\":{\"color\":\"#2a3f5f\"},\"marker\":{\"line\":{\"color\":\"#E5ECF6\",\"width\":0.5},\"pattern\":{\"fillmode\":\"overlay\",\"size\":10,\"solidity\":0.2}},\"type\":\"bar\"}],\"barpolar\":[{\"marker\":{\"line\":{\"color\":\"#E5ECF6\",\"width\":0.5},\"pattern\":{\"fillmode\":\"overlay\",\"size\":10,\"solidity\":0.2}},\"type\":\"barpolar\"}],\"carpet\":[{\"aaxis\":{\"endlinecolor\":\"#2a3f5f\",\"gridcolor\":\"white\",\"linecolor\":\"white\",\"minorgridcolor\":\"white\",\"startlinecolor\":\"#2a3f5f\"},\"baxis\":{\"endlinecolor\":\"#2a3f5f\",\"gridcolor\":\"white\",\"linecolor\":\"white\",\"minorgridcolor\":\"white\",\"startlinecolor\":\"#2a3f5f\"},\"type\":\"carpet\"}],\"choropleth\":[{\"colorbar\":{\"outlinewidth\":0,\"ticks\":\"\"},\"type\":\"choropleth\"}],\"contour\":[{\"colorbar\":{\"outlinewidth\":0,\"ticks\":\"\"},\"colorscale\":[[0.0,\"#0d0887\"],[0.1111111111111111,\"#46039f\"],[0.2222222222222222,\"#7201a8\"],[0.3333333333333333,\"#9c179e\"],[0.4444444444444444,\"#bd3786\"],[0.5555555555555556,\"#d8576b\"],[0.6666666666666666,\"#ed7953\"],[0.7777777777777778,\"#fb9f3a\"],[0.8888888888888888,\"#fdca26\"],[1.0,\"#f0f921\"]],\"type\":\"contour\"}],\"contourcarpet\":[{\"colorbar\":{\"outlinewidth\":0,\"ticks\":\"\"},\"type\":\"contourcarpet\"}],\"heatmap\":[{\"colorbar\":{\"outlinewidth\":0,\"ticks\":\"\"},\"colorscale\":[[0.0,\"#0d0887\"],[0.1111111111111111,\"#46039f\"],[0.2222222222222222,\"#7201a8\"],[0.3333333333333333,\"#9c179e\"],[0.4444444444444444,\"#bd3786\"],[0.5555555555555556,\"#d8576b\"],[0.6666666666666666,\"#ed7953\"],[0.7777777777777778,\"#fb9f3a\"],[0.8888888888888888,\"#fdca26\"],[1.0,\"#f0f921\"]],\"type\":\"heatmap\"}],\"heatmapgl\":[{\"colorbar\":{\"outlinewidth\":0,\"ticks\":\"\"},\"colorscale\":[[0.0,\"#0d0887\"],[0.1111111111111111,\"#46039f\"],[0.2222222222222222,\"#7201a8\"],[0.3333333333333333,\"#9c179e\"],[0.4444444444444444,\"#bd3786\"],[0.5555555555555556,\"#d8576b\"],[0.6666666666666666,\"#ed7953\"],[0.7777777777777778,\"#fb9f3a\"],[0.8888888888888888,\"#fdca26\"],[1.0,\"#f0f921\"]],\"type\":\"heatmapgl\"}],\"histogram\":[{\"marker\":{\"pattern\":{\"fillmode\":\"overlay\",\"size\":10,\"solidity\":0.2}},\"type\":\"histogram\"}],\"histogram2d\":[{\"colorbar\":{\"outlinewidth\":0,\"ticks\":\"\"},\"colorscale\":[[0.0,\"#0d0887\"],[0.1111111111111111,\"#46039f\"],[0.2222222222222222,\"#7201a8\"],[0.3333333333333333,\"#9c179e\"],[0.4444444444444444,\"#bd3786\"],[0.5555555555555556,\"#d8576b\"],[0.6666666666666666,\"#ed7953\"],[0.7777777777777778,\"#fb9f3a\"],[0.8888888888888888,\"#fdca26\"],[1.0,\"#f0f921\"]],\"type\":\"histogram2d\"}],\"histogram2dcontour\":[{\"colorbar\":{\"outlinewidth\":0,\"ticks\":\"\"},\"colorscale\":[[0.0,\"#0d0887\"],[0.1111111111111111,\"#46039f\"],[0.2222222222222222,\"#7201a8\"],[0.3333333333333333,\"#9c179e\"],[0.4444444444444444,\"#bd3786\"],[0.5555555555555556,\"#d8576b\"],[0.6666666666666666,\"#ed7953\"],[0.7777777777777778,\"#fb9f3a\"],[0.8888888888888888,\"#fdca26\"],[1.0,\"#f0f921\"]],\"type\":\"histogram2dcontour\"}],\"mesh3d\":[{\"colorbar\":{\"outlinewidth\":0,\"ticks\":\"\"},\"type\":\"mesh3d\"}],\"parcoords\":[{\"line\":{\"colorbar\":{\"outlinewidth\":0,\"ticks\":\"\"}},\"type\":\"parcoords\"}],\"pie\":[{\"automargin\":true,\"type\":\"pie\"}],\"scatter\":[{\"marker\":{\"colorbar\":{\"outlinewidth\":0,\"ticks\":\"\"}},\"type\":\"scatter\"}],\"scatter3d\":[{\"line\":{\"colorbar\":{\"outlinewidth\":0,\"ticks\":\"\"}},\"marker\":{\"colorbar\":{\"outlinewidth\":0,\"ticks\":\"\"}},\"type\":\"scatter3d\"}],\"scattercarpet\":[{\"marker\":{\"colorbar\":{\"outlinewidth\":0,\"ticks\":\"\"}},\"type\":\"scattercarpet\"}],\"scattergeo\":[{\"marker\":{\"colorbar\":{\"outlinewidth\":0,\"ticks\":\"\"}},\"type\":\"scattergeo\"}],\"scattergl\":[{\"marker\":{\"colorbar\":{\"outlinewidth\":0,\"ticks\":\"\"}},\"type\":\"scattergl\"}],\"scattermapbox\":[{\"marker\":{\"colorbar\":{\"outlinewidth\":0,\"ticks\":\"\"}},\"type\":\"scattermapbox\"}],\"scatterpolar\":[{\"marker\":{\"colorbar\":{\"outlinewidth\":0,\"ticks\":\"\"}},\"type\":\"scatterpolar\"}],\"scatterpolargl\":[{\"marker\":{\"colorbar\":{\"outlinewidth\":0,\"ticks\":\"\"}},\"type\":\"scatterpolargl\"}],\"scatterternary\":[{\"marker\":{\"colorbar\":{\"outlinewidth\":0,\"ticks\":\"\"}},\"type\":\"scatterternary\"}],\"surface\":[{\"colorbar\":{\"outlinewidth\":0,\"ticks\":\"\"},\"colorscale\":[[0.0,\"#0d0887\"],[0.1111111111111111,\"#46039f\"],[0.2222222222222222,\"#7201a8\"],[0.3333333333333333,\"#9c179e\"],[0.4444444444444444,\"#bd3786\"],[0.5555555555555556,\"#d8576b\"],[0.6666666666666666,\"#ed7953\"],[0.7777777777777778,\"#fb9f3a\"],[0.8888888888888888,\"#fdca26\"],[1.0,\"#f0f921\"]],\"type\":\"surface\"}],\"table\":[{\"cells\":{\"fill\":{\"color\":\"#EBF0F8\"},\"line\":{\"color\":\"white\"}},\"header\":{\"fill\":{\"color\":\"#C8D4E3\"},\"line\":{\"color\":\"white\"}},\"type\":\"table\"}]},\"layout\":{\"annotationdefaults\":{\"arrowcolor\":\"#2a3f5f\",\"arrowhead\":0,\"arrowwidth\":1},\"autotypenumbers\":\"strict\",\"coloraxis\":{\"colorbar\":{\"outlinewidth\":0,\"ticks\":\"\"}},\"colorscale\":{\"diverging\":[[0,\"#8e0152\"],[0.1,\"#c51b7d\"],[0.2,\"#de77ae\"],[0.3,\"#f1b6da\"],[0.4,\"#fde0ef\"],[0.5,\"#f7f7f7\"],[0.6,\"#e6f5d0\"],[0.7,\"#b8e186\"],[0.8,\"#7fbc41\"],[0.9,\"#4d9221\"],[1,\"#276419\"]],\"sequential\":[[0.0,\"#0d0887\"],[0.1111111111111111,\"#46039f\"],[0.2222222222222222,\"#7201a8\"],[0.3333333333333333,\"#9c179e\"],[0.4444444444444444,\"#bd3786\"],[0.5555555555555556,\"#d8576b\"],[0.6666666666666666,\"#ed7953\"],[0.7777777777777778,\"#fb9f3a\"],[0.8888888888888888,\"#fdca26\"],[1.0,\"#f0f921\"]],\"sequentialminus\":[[0.0,\"#0d0887\"],[0.1111111111111111,\"#46039f\"],[0.2222222222222222,\"#7201a8\"],[0.3333333333333333,\"#9c179e\"],[0.4444444444444444,\"#bd3786\"],[0.5555555555555556,\"#d8576b\"],[0.6666666666666666,\"#ed7953\"],[0.7777777777777778,\"#fb9f3a\"],[0.8888888888888888,\"#fdca26\"],[1.0,\"#f0f921\"]]},\"colorway\":[\"#636efa\",\"#EF553B\",\"#00cc96\",\"#ab63fa\",\"#FFA15A\",\"#19d3f3\",\"#FF6692\",\"#B6E880\",\"#FF97FF\",\"#FECB52\"],\"font\":{\"color\":\"#2a3f5f\"},\"geo\":{\"bgcolor\":\"white\",\"lakecolor\":\"white\",\"landcolor\":\"#E5ECF6\",\"showlakes\":true,\"showland\":true,\"subunitcolor\":\"white\"},\"hoverlabel\":{\"align\":\"left\"},\"hovermode\":\"closest\",\"mapbox\":{\"style\":\"light\"},\"paper_bgcolor\":\"white\",\"plot_bgcolor\":\"#E5ECF6\",\"polar\":{\"angularaxis\":{\"gridcolor\":\"white\",\"linecolor\":\"white\",\"ticks\":\"\"},\"bgcolor\":\"#E5ECF6\",\"radialaxis\":{\"gridcolor\":\"white\",\"linecolor\":\"white\",\"ticks\":\"\"}},\"scene\":{\"xaxis\":{\"backgroundcolor\":\"#E5ECF6\",\"gridcolor\":\"white\",\"gridwidth\":2,\"linecolor\":\"white\",\"showbackground\":true,\"ticks\":\"\",\"zerolinecolor\":\"white\"},\"yaxis\":{\"backgroundcolor\":\"#E5ECF6\",\"gridcolor\":\"white\",\"gridwidth\":2,\"linecolor\":\"white\",\"showbackground\":true,\"ticks\":\"\",\"zerolinecolor\":\"white\"},\"zaxis\":{\"backgroundcolor\":\"#E5ECF6\",\"gridcolor\":\"white\",\"gridwidth\":2,\"linecolor\":\"white\",\"showbackground\":true,\"ticks\":\"\",\"zerolinecolor\":\"white\"}},\"shapedefaults\":{\"line\":{\"color\":\"#2a3f5f\"}},\"ternary\":{\"aaxis\":{\"gridcolor\":\"white\",\"linecolor\":\"white\",\"ticks\":\"\"},\"baxis\":{\"gridcolor\":\"white\",\"linecolor\":\"white\",\"ticks\":\"\"},\"bgcolor\":\"#E5ECF6\",\"caxis\":{\"gridcolor\":\"white\",\"linecolor\":\"white\",\"ticks\":\"\"}},\"title\":{\"x\":0.05},\"xaxis\":{\"automargin\":true,\"gridcolor\":\"white\",\"linecolor\":\"white\",\"ticks\":\"\",\"title\":{\"standoff\":15},\"zerolinecolor\":\"white\",\"zerolinewidth\":2},\"yaxis\":{\"automargin\":true,\"gridcolor\":\"white\",\"linecolor\":\"white\",\"ticks\":\"\",\"title\":{\"standoff\":15},\"zerolinecolor\":\"white\",\"zerolinewidth\":2}}}},                        {\"responsive\": true}                    ).then(function(){\n",
              "                            \n",
              "var gd = document.getElementById('6c6c6120-87b2-476c-8b4d-cdf233b2daae');\n",
              "var x = new MutationObserver(function (mutations, observer) {{\n",
              "        var display = window.getComputedStyle(gd).display;\n",
              "        if (!display || display === 'none') {{\n",
              "            console.log([gd, 'removed!']);\n",
              "            Plotly.purge(gd);\n",
              "            observer.disconnect();\n",
              "        }}\n",
              "}});\n",
              "\n",
              "// Listen for the removal of the full notebook cells\n",
              "var notebookContainer = gd.closest('#notebook-container');\n",
              "if (notebookContainer) {{\n",
              "    x.observe(notebookContainer, {childList: true});\n",
              "}}\n",
              "\n",
              "// Listen for the clearing of the current output cell\n",
              "var outputEl = gd.closest('.output');\n",
              "if (outputEl) {{\n",
              "    x.observe(outputEl, {childList: true});\n",
              "}}\n",
              "\n",
              "                        })                };                            </script>        </div>\n",
              "</body>\n",
              "</html>"
            ]
          },
          "metadata": {}
        }
      ]
    }
  ]
}